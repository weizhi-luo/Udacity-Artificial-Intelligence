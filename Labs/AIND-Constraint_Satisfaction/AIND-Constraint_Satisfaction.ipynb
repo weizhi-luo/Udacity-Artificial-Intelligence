{
 "cells": [
  {
   "cell_type": "markdown",
   "metadata": {},
   "source": [
    "# Constraint Satisfaction Problems Lab\n",
    "\n",
    "## Introduction\n",
    "Constraint Satisfaction is a technique for solving problems by expressing limits on the values of each variable in the solution with mathematical constraints.  We've used constraints before -- constraints in the Sudoku project are enforced implicitly by filtering the legal values for each box, and the planning project represents constraints as arcs connecting nodes in the planning graph -- but in this lab exercise we will use a symbolic math library to explicitly construct binary constraints and then use Backtracking to solve the N-queens problem (which is a generalization [8-queens problem](https://en.wikipedia.org/wiki/Eight_queens_puzzle)).  Using symbolic constraints should make it easier to visualize and reason about the constraints (especially for debugging), but comes with a performance penalty.\n",
    "\n",
    "![8-queens puzzle solution](EightQueens.gif)\n",
    "\n",
    "Briefly, the 8-queens problem asks you to place 8 queens on a standard 8x8 chessboard such that none of the queens are in \"check\" (i.e., no two queens occupy the same row, column, or diagonal). The N-queens problem generalizes the puzzle to to any size square board.\n",
    "\n",
    "## I. Lab Overview\n",
    "Students should read through the code and the wikipedia page (or other resources) to understand the N-queens problem, then:\n",
    "\n",
    "0. Complete the warmup exercises in the [Sympy_Intro notebook](Sympy_Intro.ipynb) to become familiar with they sympy library and symbolic representation for constraints\n",
    "0. Implement the [NQueensCSP class](#II.-Representing-the-N-Queens-Problem) to develop an efficient encoding of the N-queens problem and explicitly generate the constraints bounding the solution\n",
    "0. Write the [search functions](#III.-Backtracking-Search) for recursive backtracking, and use them to solve the N-queens problem\n",
    "0. (Optional) Conduct [additional experiments](#IV.-Experiments-%28Optional%29) with CSPs and various modifications to the search order (minimum remaining values, least constraining value, etc.)"
   ]
  },
  {
   "cell_type": "code",
   "execution_count": 1,
   "metadata": {},
   "outputs": [],
   "source": [
    "import matplotlib as mpl\n",
    "import matplotlib.pyplot as plt\n",
    "\n",
    "from util import constraint, displayBoard\n",
    "from sympy import *\n",
    "from IPython.display import display\n",
    "init_printing()\n",
    "%matplotlib inline"
   ]
  },
  {
   "cell_type": "markdown",
   "metadata": {},
   "source": [
    "## II. Representing the N-Queens Problem\n",
    "There are many acceptable ways to represent the N-queens problem, but one convenient way is to recognize that one of the constraints (either the row or column constraint) can be enforced implicitly by the encoding.  If we represent a solution as an array with N elements, then each position in the array can represent a column of the board, and the value at each position can represent which row the queen is placed on.\n",
    "\n",
    "In this encoding, we only need a constraint to make sure that no two queens occupy the same row, and one to make sure that no two queens occupy the same diagonal.\n",
    "\n",
    "### Define Symbolic Expressions for the Problem Constraints\n",
    "Before implementing the board class, we need to construct the symbolic constraints that will be used in the CSP.  Declare any symbolic terms required, and then declare two generic constraint generators:\n",
    "- `diffRow` - generate constraints that return True if the two arguments do not match\n",
    "- `diffDiag` - generate constraints that return True if two arguments are not on the same diagonal (Hint: you can easily test whether queens in two columns are on the same diagonal by testing if the difference in the number of rows and the number of columns match)\n",
    "\n",
    "Both generators should produce binary constraints (i.e., each should have two free symbols) once they're bound to specific variables in the CSP.  For example, Eq((a + b), (b + c)) is not a binary constraint, but Eq((a + b), (b + c)).subs(b, 1) _is_ a binary constraint because one of the terms has been bound to a constant, so there are only two free variables remaining. "
   ]
  },
  {
   "cell_type": "code",
   "execution_count": 2,
   "metadata": {},
   "outputs": [],
   "source": [
    "# Declare any required symbolic variables\n",
    "a, b, c = symbols(\"a b c\")\n",
    "\n",
    "# Define diffRow and diffDiag constraints\n",
    "diffRow = constraint(\"diffRow\", Ne(a, b))\n",
    "diffDiag = constraint(\"diffDiag\", Ne(abs(a-b), c))"
   ]
  },
  {
   "cell_type": "code",
   "execution_count": 3,
   "metadata": {},
   "outputs": [
    {
     "name": "stdout",
     "output_type": "stream",
     "text": [
      "Passed all diffRow tests.\n",
      "Passed all diffDiag tests.\n"
     ]
    }
   ],
   "source": [
    "# Test diffRow and diffDiag\n",
    "_x = symbols(\"x:3\")\n",
    "\n",
    "# generate a diffRow instance for testing\n",
    "#raise NotImplementedError(\"TODO: use your diffRow constraint to generate a diffRow constraint for _x[0] and _x[1]\")\n",
    "diffRow_test = diffRow.subs({a:_x[0], b:_x[1]})\n",
    "\n",
    "assert(len(diffRow_test.free_symbols) == 2)\n",
    "assert(diffRow_test.subs({_x[0]: 0, _x[1]: 1}) == True)\n",
    "assert(diffRow_test.subs({_x[0]: 0, _x[1]: 0}) == False)\n",
    "assert(diffRow_test.subs({_x[0]: 0}) != False)  # partial assignment is not false\n",
    "print(\"Passed all diffRow tests.\")\n",
    "\n",
    "# generate a diffDiag instance for testing\n",
    "#raise NotImplementedError(\"TODO: use your diffDiag constraint to generate a diffDiag constraint for _x[0] and _x[2]\")\n",
    "diffDiag_test = diffDiag.subs({a:_x[0], b:_x[2], c:2})\n",
    "\n",
    "assert(len(diffDiag_test.free_symbols) == 2)\n",
    "assert(diffDiag_test.subs({_x[0]: 0, _x[2]: 2}) == False)\n",
    "assert(diffDiag_test.subs({_x[0]: 0, _x[2]: 0}) == True)\n",
    "assert(diffDiag_test.subs({_x[0]: 0}) != False)  # partial assignment is not false\n",
    "print(\"Passed all diffDiag tests.\")"
   ]
  },
  {
   "cell_type": "markdown",
   "metadata": {},
   "source": [
    "### The N-Queens CSP Class\n",
    "Implement the CSP class as described above, with constraints to make sure each queen is on a different row and different diagonal than every other queen, and a variable for each column defining the row that containing a queen in that column."
   ]
  },
  {
   "cell_type": "code",
   "execution_count": 4,
   "metadata": {},
   "outputs": [],
   "source": [
    "import copy\n",
    "\n",
    "class NQueensCSP:\n",
    "    \"\"\"CSP representation of the N-queens problem\n",
    "    \n",
    "    Parameters\n",
    "    ----------\n",
    "    N : Integer\n",
    "        The side length of a square chess board to use for the problem, and\n",
    "        the number of queens that must be placed on the board\n",
    "    \"\"\"\n",
    "    def __init__(self, N):\n",
    "        #raise NotImplementedError(\"TODO: declare symbolic variables in self._vars in the CSP constructor\")\n",
    "        _vars = symbols(\"x:\" + str(N))\n",
    "        _domain = set(range(N))\n",
    "        self.size = N\n",
    "        self.variables = _vars\n",
    "        self.domains = {v: _domain for v in _vars}\n",
    "        self._constraints = {x: set() for x in _vars}\n",
    "        \n",
    "        self.check_is_consistent_times = 0\n",
    "\n",
    "        # add constraints - for each pair of variables xi and xj, create\n",
    "        # a diffRow(xi, xj) and a diffDiag(xi, xj) instance, and add them\n",
    "        # to the self._constraints dictionary keyed to both xi and xj;\n",
    "        # (i.e., add them to both self._constraints[xi] and self._constraints[xj])\n",
    "        #raise NotImplementedError(\"TODO: add constraints in self._constraints in the CSP constructor\")\n",
    "        for i in range(self.size):\n",
    "            for j in range(i+1, self.size):\n",
    "                xi = self.variables[i]\n",
    "                xj = self.variables[j]\n",
    "                diffRow_constraint = diffRow.subs({a:xi, b:xj})\n",
    "                diffDiag_constraint = diffDiag.subs({a:xi, b:xj, c:j-i})\n",
    "                self._constraints[xi].add(diffRow_constraint)\n",
    "                self._constraints[xj].add(diffRow_constraint)\n",
    "                self._constraints[xi].add(diffDiag_constraint)\n",
    "                self._constraints[xj].add(diffDiag_constraint)\n",
    "    \n",
    "    @property\n",
    "    def constraints(self):\n",
    "        \"\"\"Read-only list of constraints -- cannot be used for evaluation \"\"\"\n",
    "        constraints = set()\n",
    "        for _cons in self._constraints.values():\n",
    "            constraints |= _cons\n",
    "        return list(constraints)\n",
    "    \n",
    "    def is_complete(self, assignment):\n",
    "        \"\"\"An assignment is complete if it is consistent, and all constraints\n",
    "        are satisfied.\n",
    "        \n",
    "        Hint: Backtracking search checks consistency of each assignment, so checking\n",
    "        for completeness can be done very efficiently\n",
    "        \n",
    "        Parameters\n",
    "        ----------\n",
    "        assignment : dict(sympy.Symbol: Integer)\n",
    "            An assignment of values to variables that have previously been checked\n",
    "            for consistency with the CSP constraints\n",
    "        \"\"\"\n",
    "        #raise NotImplementedError(\"TODO: implement the is_complete() method of the CSP\")\n",
    "        if len(assignment) != self.size:\n",
    "            return False\n",
    "        \n",
    "        for key in assignment.keys():\n",
    "            for constraint in self._constraints[key]:\n",
    "                if not constraint.subs(assignment):\n",
    "                    return False\n",
    "        \n",
    "        return True\n",
    "    \n",
    "    def is_consistent(self, var, value, assignment):\n",
    "        \"\"\"Check consistency of a proposed variable assignment\n",
    "                \n",
    "        self._constraints[x] returns a set of constraints that involve variable `x`.\n",
    "        An assignment is consistent unless the assignment it causes a constraint to\n",
    "        return False (partial assignments are always consistent).\n",
    "        \n",
    "        Parameters\n",
    "        ----------\n",
    "        var : sympy.Symbol\n",
    "            One of the symbolic variables in the CSP\n",
    "            \n",
    "        value : Numeric\n",
    "            A valid value (i.e., in the domain of) the variable `var` for assignment\n",
    "\n",
    "        assignment : dict(sympy.Symbol: Integer)\n",
    "            A dictionary mapping CSP variables to row assignment of each queen\n",
    "            \n",
    "        \"\"\"\n",
    "        #raise NotImplementedError(\"TODO: implement the is_consistent() method of the CSP\")\n",
    "        self.check_is_consistent_times += 1\n",
    "        \n",
    "        assignment_copy = copy.deepcopy(assignment)\n",
    "        assignment_copy[var] = value\n",
    "        \n",
    "        for constraint in self._constraints[var]:\n",
    "            if not constraint.subs(assignment_copy):\n",
    "                return False\n",
    "        \n",
    "        return True\n",
    "        \n",
    "    def inference(self, var, value, assignment):\n",
    "        \"\"\"Perform logical inference based on proposed variable assignment\n",
    "        \n",
    "        Returns an empty dictionary by default; function can be overridden to\n",
    "        check arc-, path-, or k-consistency; returning None signals \"failure\".\n",
    "        \n",
    "        Parameters\n",
    "        ----------\n",
    "        var : sympy.Symbol\n",
    "            One of the symbolic variables in the CSP\n",
    "        \n",
    "        value : Integer\n",
    "            A valid value (i.e., in the domain of) the variable `var` for assignment\n",
    "            \n",
    "        Returns\n",
    "        -------\n",
    "        dict(sympy.Symbol: Integer) or None\n",
    "            A partial set of values mapped to variables in the CSP based on inferred\n",
    "            constraints from previous mappings, or None to indicate failure\n",
    "        \"\"\"\n",
    "        # TODO (Optional): Implement this function based on AIMA discussion\n",
    "        inferred_assignment = {}\n",
    "        inference_failed = False\n",
    "        other_vars = [v for v in self.variables if v != var and v not in assignment]\n",
    "        domains_copy = copy.deepcopy(self.domains)\n",
    "        \n",
    "        for other_var in other_vars:\n",
    "            other_var_inferred_domain = set()\n",
    "            #for v in self.domains[other_var]:\n",
    "            for v in domains_copy[other_var]:\n",
    "                valid = True\n",
    "                assignment_copy = copy.deepcopy(assignment)\n",
    "                assignment_copy.update({other_var: v, var: value})\n",
    "                for constraint in self._constraints[other_var]:                \n",
    "                    #if not constraint.subs({other_var: v, var: value}):\n",
    "                    if not constraint.subs(assignment_copy):\n",
    "                        valid = False\n",
    "                        break\n",
    "                if valid:\n",
    "                    other_var_inferred_domain.add(v)\n",
    "            \n",
    "            if len(other_var_inferred_domain) == 0:\n",
    "                inference_failed = True\n",
    "                break\n",
    "            \n",
    "            if len(other_var_inferred_domain) == 1:\n",
    "                inferred_assignment[other_var] = list(other_var_inferred_domain)[0]\n",
    "                \n",
    "            #self.domains[other_var] = other_var_inferred_domain\n",
    "            domains_copy[other_var] = other_var_inferred_domain\n",
    "        \n",
    "        if inference_failed:\n",
    "            return None\n",
    "        \n",
    "        #print(\"domains_copy: {}\".format(domains_copy))\n",
    "        arc_consistence_set = set()\n",
    "        for var_index in range(len(other_vars)):\n",
    "            partner_var_index = var_index + 1\n",
    "            while partner_var_index < len(other_vars):\n",
    "                arc_consistence_set.add((other_vars[var_index], other_vars[partner_var_index]))\n",
    "                partner_var_index += 1\n",
    "        #print(\"arc_consistence_set: {}\".format(arc_consistence_set))\n",
    "        \n",
    "        while len(arc_consistence_set):\n",
    "            arc = arc_consistence_set.pop()\n",
    "            var_i = arc[0]\n",
    "            var_j = arc[1]\n",
    "            invalid_values_i = set()\n",
    "            #print(\"var_i: {}\".format(var_i))\n",
    "            #print(\"var_j: {}\".format(var_j))\n",
    "                        \n",
    "            for value_i in domains_copy[var_i]:\n",
    "                value_i_valid = False\n",
    "                #print('Initial: value_i_valid: {}'.format(value_i_valid))\n",
    "                for value_j in domains_copy[var_j]:\n",
    "                    value_j_valid = True\n",
    "                    for constraint in self._constraints[var_j]:\n",
    "                        #print(\"constraint:{}; values:{}-{},{}-{}; result:{}\".\n",
    "                        #      format(constraint, var_i, value_i, var_j, value_j, constraint.subs({var_i: value_i, var_j: value_j})))\n",
    "                        if not constraint.subs({var_i: value_i, var_j: value_j}):\n",
    "                            value_j_valid = False\n",
    "                        #print('value_j_valid: {}'.format(value_j_valid))\n",
    "                    value_i_valid = value_i_valid | value_j_valid\n",
    "                    #print('value_i_valid: {}'.format(value_i_valid))\n",
    "                    if value_i_valid:\n",
    "                        #print('break')\n",
    "                        break\n",
    "                #print('Final: value_i_valid: {}'.format(value_i_valid))\n",
    "                if not value_i_valid:\n",
    "                    invalid_values_i.add(value_i)\n",
    "                #print(\"invalid_values_i: {}\".format(invalid_values_i))\n",
    "            \n",
    "            if len(invalid_values_i) == 0:\n",
    "                continue\n",
    "            \n",
    "            for value_i in invalid_values_i:\n",
    "                domains_copy[var_i].remove(value_i)\n",
    "            \n",
    "            if not domains_copy[var_i]:\n",
    "                return None\n",
    "            \n",
    "            arc_consistence_set.add((var_j, var_i))\n",
    "        \n",
    "        self.domains = domains_copy\n",
    "        return inferred_assignment\n",
    "    \n",
    "    def show(self, assignment):\n",
    "        \"\"\"Display a chessboard with queens drawn in the locations specified by an\n",
    "        assignment\n",
    "        \n",
    "        Parameters\n",
    "        ----------\n",
    "        assignment : dict(sympy.Symbol: Integer)\n",
    "            A dictionary mapping CSP variables to row assignment of each queen\n",
    "            \n",
    "        \"\"\"\n",
    "        locations = [(i, assignment[j]) for i, j in enumerate(self.variables) \n",
    "                     if assignment.get(j, None) is not None]\n",
    "        displayBoard(locations, self.size)"
   ]
  },
  {
   "cell_type": "markdown",
   "metadata": {
    "collapsed": true
   },
   "source": [
    "## III. Backtracking Search\n",
    "Implement the [backtracking search](https://github.com/aimacode/aima-pseudocode/blob/master/md/Backtracking-Search.md) algorithm (required) and helper functions (optional) from the AIMA text.  "
   ]
  },
  {
   "cell_type": "code",
   "execution_count": 5,
   "metadata": {},
   "outputs": [],
   "source": [
    "def select(csp, assignment):\n",
    "    \"\"\"Choose an unassigned variable in a constraint satisfaction problem \"\"\"\n",
    "    # TODO (Optional): Implement a more sophisticated selection routine from AIMA\n",
    "    sorted_domains = sorted(csp.domains.items(), key=lambda i:len(i[1]))\n",
    "    for var in sorted_domains:\n",
    "        if var[0] not in assignment:\n",
    "            return var[0]\n",
    "    return None\n",
    "\n",
    "def order_values(var, assignment, csp):\n",
    "    \"\"\"Select the order of the values in the domain of a variable for checking during search;\n",
    "    the default is lexicographically.\n",
    "    \"\"\"\n",
    "    # TODO (Optional): Implement a more sophisticated search ordering routine from AIMA\n",
    "    return csp.domains[var]\n",
    "\n",
    "def backtracking_search(csp):\n",
    "    \"\"\"Helper function used to initiate backtracking search \"\"\"\n",
    "    return backtrack({}, csp)\n",
    "\n",
    "def backtrack(assignment, csp):\n",
    "    \"\"\"Perform backtracking search for a valid assignment to a CSP\n",
    "    \n",
    "    Parameters\n",
    "    ----------\n",
    "    assignment : dict(sympy.Symbol: Integer)\n",
    "        An partial set of values mapped to variables in the CSP\n",
    "        \n",
    "    csp : CSP\n",
    "        A problem encoded as a CSP. Interface should include csp.variables, csp.domains,\n",
    "        csp.inference(), csp.is_consistent(), and csp.is_complete().\n",
    "    \n",
    "    Returns\n",
    "    -------\n",
    "    dict(sympy.Symbol: Integer) or None\n",
    "        A partial set of values mapped to variables in the CSP, or None to indicate failure\n",
    "    \"\"\"\n",
    "    #raise NotImplementedError(\"TODO: complete the backtrack function\")\n",
    "    #print(\"assignment: {}\".format(assignment))\n",
    "    if csp.is_complete(assignment):\n",
    "        return assignment\n",
    "    \n",
    "    var = select(csp, assignment)\n",
    "    if not var:\n",
    "        return None\n",
    "    \n",
    "    for value in order_values(var, assignment, csp):\n",
    "        #print(\"try {} with {}\".format(var, value))\n",
    "        current_assigned_vars = set()\n",
    "        if csp.is_consistent(var, value, assignment):\n",
    "            #print(\"Domains before inference: {}\".format(csp.domains))\n",
    "            inference = csp.inference(var, value, assignment)\n",
    "            #print(\"Inference: {}\".format(inference))\n",
    "            #print(\"Domains afer inference: {}\".format(csp.domains))\n",
    "            if inference is None:\n",
    "                continue\n",
    "            elif len(inference) > 0:\n",
    "                assignment.update(inference)\n",
    "                current_assigned_vars.update(set(inference.keys()))\n",
    "            \n",
    "            assignment[var] = value\n",
    "            csp.domains[var] = {value}\n",
    "            current_assigned_vars.add(var)\n",
    "            \n",
    "            result = backtrack(assignment, csp)\n",
    "            if result:\n",
    "                return result\n",
    "            \n",
    "            #print(\"{} - Unsuccessful next level backtrack. Reset current assigned variables: {}.\\nDomains: {}\".\n",
    "            #      format(var, current_assigned_vars, csp.domains))\n",
    "            for current_assigned_var in current_assigned_vars:\n",
    "                del assignment[current_assigned_var]\n",
    "                csp.domains[current_assigned_var] = set(range(csp.size))\n",
    "            #print(\"{} - Unsuccessful next level backtrack. Reset is done for current assigned variables: {}.\\nDomains: {}\".\n",
    "            #      format(var, current_assigned_vars, csp.domains))\n",
    "                \n",
    "    #print(\"No results. Reset domain for {}: {}\".format(var, csp.domains))\n",
    "    csp.domains[var] = set(range(csp.size))\n",
    "    #print(\"No results. Reset is done for {}: {}\".format(var, csp.domains))\n",
    "    \n",
    "    return None"
   ]
  },
  {
   "cell_type": "markdown",
   "metadata": {},
   "source": [
    "### Solve the CSP\n",
    "With backtracking implemented, now you can use it to solve instances of the problem. We've started with the classical 8-queen version, but you can try other sizes as well.  Boards larger than 12x12 may take some time to solve because sympy is slow in the way its being used here, and because the selection and value ordering methods haven't been implemented.  See if you can implement any of the techniques in the AIMA text to speed up the solver!"
   ]
  },
  {
   "cell_type": "code",
   "execution_count": 6,
   "metadata": {},
   "outputs": [
    {
     "name": "stdout",
     "output_type": "stream",
     "text": [
      "CSP problems have variables, each variable has a domain, and the problem has a list of constraints.\n",
      "Showing the variables for the N-Queens CSP:\n"
     ]
    },
    {
     "data": {
      "image/png": "[encoded data removed]",
      "text/latex": [
       "$$\\left ( x_{0}, \\quad x_{1}, \\quad x_{2}, \\quad x_{3}, \\quad x_{4}, \\quad x_{5}, \\quad x_{6}, \\quad x_{7}\\right )$$"
      ],
      "text/plain": [
       "(x₀, x₁, x₂, x₃, x₄, x₅, x₆, x₇)"
      ]
     },
     "metadata": {},
     "output_type": "display_data"
    },
    {
     "name": "stdout",
     "output_type": "stream",
     "text": [
      "Showing domain for x0:\n"
     ]
    },
    {
     "data": {
      "image/png": "[encoded data removed]",
      "text/latex": [
       "$$\\left\\{0, 1, 2, 3, 4, 5, 6, 7\\right\\}$$"
      ],
      "text/plain": [
       "set([0, 1, 2, 3, 4, 5, 6, 7])"
      ]
     },
     "metadata": {},
     "output_type": "display_data"
    },
    {
     "name": "stdout",
     "output_type": "stream",
     "text": [
      "And showing the constraints for x0:\n"
     ]
    },
    {
     "data": {
      "image/png": "[encoded data removed]",
      "text/latex": [
       "$$\\left\\{\\operatorname{diffDiag}{\\left (x_{0},x_{1} \\right )}, \\operatorname{diffDiag}{\\left (x_{0},x_{4} \\right )}, \\operatorname{diffDiag}{\\left (x_{2},x_{0} \\right )}, \\operatorname{diffDiag}{\\left (x_{3},x_{0} \\right )}, \\operatorname{diffDiag}{\\left (x_{5},x_{0} \\right )}, \\operatorname{diffDiag}{\\left (x_{6},x_{0} \\right )}, \\operatorname{diffDiag}{\\left (x_{7},x_{0} \\right )}, \\operatorname{diffRow}{\\left (x_{0},x_{1} \\right )}, \\operatorname{diffRow}{\\left (x_{0},x_{4} \\right )}, \\operatorname{diffRow}{\\left (x_{2},x_{0} \\right )}, \\operatorname{diffRow}{\\left (x_{3},x_{0} \\right )}, \\operatorname{diffRow}{\\left (x_{5},x_{0} \\right )}, \\operatorname{diffRow}{\\left (x_{6},x_{0} \\right )}, \\operatorname{diffRow}{\\left (x_{7},x_{0} \\right )}\\right\\}$$"
      ],
      "text/plain": [
       "set([diffDiag(x₀, x₁), diffDiag(x₀, x₄), diffDiag(x₂, x₀), diffDiag(x₃, x₀), d\n",
       "iffDiag(x₅, x₀), diffDiag(x₆, x₀), diffDiag(x₇, x₀), diffRow(x₀, x₁), diffRow(\n",
       "x₀, x₄), diffRow(x₂, x₀), diffRow(x₃, x₀), diffRow(x₅, x₀), diffRow(x₆, x₀), d\n",
       "iffRow(x₇, x₀)])"
      ]
     },
     "metadata": {},
     "output_type": "display_data"
    },
    {
     "name": "stdout",
     "output_type": "stream",
     "text": [
      "Solving N-Queens CSP...\n",
      "Times to check is_consistent: 5\n"
     ]
    },
    {
     "data": {
      "image/png": "[encoded data removed]",
      "text/plain": [
       "<matplotlib.figure.Figure at 0x14aeb93d240>"
      ]
     },
     "metadata": {},
     "output_type": "display_data"
    },
    {
     "name": "stdout",
     "output_type": "stream",
     "text": [
      "Solution found:\n",
      "{x7: 0, x2: 1, x4: 5, x6: 6, x5: 3, x3: 7, x0: 2, x1: 4}\n"
     ]
    }
   ],
   "source": [
    "num_queens = 8\n",
    "csp = NQueensCSP(num_queens)\n",
    "var = csp.variables[0]\n",
    "print(\"CSP problems have variables, each variable has a domain, and the problem has a list of constraints.\")\n",
    "print(\"Showing the variables for the N-Queens CSP:\")\n",
    "display(csp.variables)\n",
    "print(\"Showing domain for {}:\".format(var))\n",
    "display(csp.domains[var])\n",
    "print(\"And showing the constraints for {}:\".format(var))\n",
    "display(csp._constraints[var])\n",
    "\n",
    "print(\"Solving N-Queens CSP...\")\n",
    "assn = backtracking_search(csp)\n",
    "print(\"Times to check is_consistent: {}\".format(csp.check_is_consistent_times))\n",
    "if assn is not None:\n",
    "    csp.show(assn)\n",
    "    print(\"Solution found:\\n{!s}\".format(assn))\n",
    "else:\n",
    "    print(\"No solution found.\")"
   ]
  },
  {
   "cell_type": "markdown",
   "metadata": {},
   "source": [
    "## IV. Experiments (Optional)\n",
    "For each optional experiment, discuss the answers to these questions on the forum: Do you expect this change to be more efficient, less efficient, or the same?  Why or why not?  Is your prediction correct?  What metric did you compare (e.g., time, space, nodes visited, etc.)?\n",
    "\n",
    "- Implement a _bad_ N-queens solver: generate & test candidate solutions one at a time until a valid solution is found.  For example, represent the board as an array with $N^2$ elements, and let each element be True if there is a queen in that box, and False if it is empty.  Use an $N^2$-bit counter to generate solutions, then write a function to check if each solution is valid.  Notice that this solution doesn't require any of the techniques we've applied to other problems -- there is no DFS or backtracking, nor constraint propagation, or even explicitly defined variables.\n",
    "- Use more complex constraints -- i.e., generalize the binary constraint RowDiff to an N-ary constraint AllRowsDiff, etc., -- and solve the problem again.\n",
    "- Rewrite the CSP class to use forward checking to restrict the domain of each variable as new values are assigned.\n",
    "- The sympy library isn't very fast, so this version of the CSP doesn't work well on boards bigger than about 12x12.  Write a new representation of the problem class that uses constraint functions (like the Sudoku project) to implicitly track constraint satisfaction through the restricted domain of each variable.  How much larger can you solve?\n",
    "- Create your own CSP!"
   ]
  },
  {
   "cell_type": "code",
   "execution_count": null,
   "metadata": {},
   "outputs": [],
   "source": []
  }
 ],
 "metadata": {
  "anaconda-cloud": {},
  "kernelspec": {
   "display_name": "Python [default]",
   "language": "python",
   "name": "python3"
  },
  "language_info": {
   "codemirror_mode": {
    "name": "ipython",
    "version": 3
   },
   "file_extension": ".py",
   "mimetype": "text/x-python",
   "name": "python",
   "nbconvert_exporter": "python",
   "pygments_lexer": "ipython3",
   "version": "3.5.4"
  }
 },
 "nbformat": 4,
 "nbformat_minor": 1
}
