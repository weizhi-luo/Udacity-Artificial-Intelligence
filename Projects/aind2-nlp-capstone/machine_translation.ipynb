{
 "cells": [
  {
   "cell_type": "markdown",
   "metadata": {
    "collapsed": true
   },
   "source": [
    "# Artificial Intelligence Nanodegree\n",
    "## Machine Translation Project\n",
    "In this notebook, sections that end with **'(IMPLEMENTATION)'** in the header indicate that the following blocks of code will require additional functionality which you must provide. Please be sure to read the instructions carefully!\n",
    "\n",
    "## Introduction\n",
    "In this notebook, you will build a deep neural network that functions as part of an end-to-end machine translation pipeline. Your completed pipeline will accept English text as input and return the French translation.\n",
    "\n",
    "- **Preprocess** - You'll convert text to sequence of integers.\n",
    "- **Models** Create models which accepts a sequence of integers as input and returns a probability distribution over possible translations. After learning about the basic types of neural networks that are often used for machine translation, you will engage in your own investigations, to design your own model!\n",
    "- **Prediction** Run the model on English text."
   ]
  },
  {
   "cell_type": "code",
   "execution_count": 1,
   "metadata": {},
   "outputs": [],
   "source": [
    "%load_ext autoreload\n",
    "%aimport helper, tests\n",
    "%autoreload 1"
   ]
  },
  {
   "cell_type": "code",
   "execution_count": 2,
   "metadata": {},
   "outputs": [
    {
     "name": "stderr",
     "output_type": "stream",
     "text": [
      "Using TensorFlow backend.\n"
     ]
    }
   ],
   "source": [
    "import collections\n",
    "\n",
    "import helper\n",
    "import numpy as np\n",
    "import project_tests as tests\n",
    "\n",
    "from keras.preprocessing.text import Tokenizer\n",
    "from keras.preprocessing.sequence import pad_sequences\n",
    "from keras.models import Model\n",
    "from keras.layers import GRU, Input, Dense, TimeDistributed, Activation, RepeatVector, Bidirectional\n",
    "from keras.layers.embeddings import Embedding\n",
    "from keras.optimizers import Adam\n",
    "from keras.losses import sparse_categorical_crossentropy"
   ]
  },
  {
   "cell_type": "markdown",
   "metadata": {},
   "source": [
    "### Verify access to the GPU\n",
    "The following test applies only if you expect to be using a GPU, e.g., while running in a Udacity Workspace or using an AWS instance with GPU support. Run the next cell, and verify that the device_type is \"GPU\".\n",
    "- If the device is not GPU & you are running from a Udacity Workspace, then save your workspace with the icon at the top, then click \"enable\" at the bottom of the workspace.\n",
    "- If the device is not GPU & you are running from an AWS instance, then refer to the cloud computing instructions in the classroom to verify your setup steps."
   ]
  },
  {
   "cell_type": "code",
   "execution_count": 3,
   "metadata": {},
   "outputs": [
    {
     "name": "stdout",
     "output_type": "stream",
     "text": [
      "[name: \"/cpu:0\"\n",
      "device_type: \"CPU\"\n",
      "memory_limit: 268435456\n",
      "locality {\n",
      "}\n",
      "incarnation: 9920626912779196784\n",
      ", name: \"/gpu:0\"\n",
      "device_type: \"GPU\"\n",
      "memory_limit: 11332668621\n",
      "locality {\n",
      "  bus_id: 1\n",
      "}\n",
      "incarnation: 13977607634188318386\n",
      "physical_device_desc: \"device: 0, name: Tesla K80, pci bus id: 0000:00:1e.0\"\n",
      "]\n"
     ]
    }
   ],
   "source": [
    "from tensorflow.python.client import device_lib\n",
    "print(device_lib.list_local_devices())"
   ]
  },
  {
   "cell_type": "markdown",
   "metadata": {},
   "source": [
    "## Dataset\n",
    "We begin by investigating the dataset that will be used to train and evaluate your pipeline.  The most common datasets used for machine translation are from [WMT](http://www.statmt.org/).  However, that will take a long time to train a neural network on.  We'll be using a dataset we created for this project that contains a small vocabulary.  You'll be able to train your model in a reasonable time with this dataset.\n",
    "### Load Data\n",
    "The data is located in `data/small_vocab_en` and `data/small_vocab_fr`. The `small_vocab_en` file contains English sentences with their French translations in the `small_vocab_fr` file. Load the English and French data from these files from running the cell below."
   ]
  },
  {
   "cell_type": "code",
   "execution_count": 4,
   "metadata": {},
   "outputs": [
    {
     "name": "stdout",
     "output_type": "stream",
     "text": [
      "Dataset Loaded\n"
     ]
    }
   ],
   "source": [
    "# Load English data\n",
    "english_sentences = helper.load_data('data/small_vocab_en')\n",
    "# Load French data\n",
    "french_sentences = helper.load_data('data/small_vocab_fr')\n",
    "\n",
    "print('Dataset Loaded')"
   ]
  },
  {
   "cell_type": "markdown",
   "metadata": {},
   "source": [
    "### Files\n",
    "Each line in `small_vocab_en` contains an English sentence with the respective translation in each line of `small_vocab_fr`.  View the first two lines from each file."
   ]
  },
  {
   "cell_type": "code",
   "execution_count": 5,
   "metadata": {},
   "outputs": [
    {
     "name": "stdout",
     "output_type": "stream",
     "text": [
      "small_vocab_en Line 1:  new jersey is sometimes quiet during autumn , and it is snowy in april .\n",
      "small_vocab_fr Line 1:  new jersey est parfois calme pendant l' automne , et il est neigeux en avril .\n",
      "small_vocab_en Line 2:  the united states is usually chilly during july , and it is usually freezing in november .\n",
      "small_vocab_fr Line 2:  les états-unis est généralement froid en juillet , et il gèle habituellement en novembre .\n"
     ]
    }
   ],
   "source": [
    "for sample_i in range(2):\n",
    "    print('small_vocab_en Line {}:  {}'.format(sample_i + 1, english_sentences[sample_i]))\n",
    "    print('small_vocab_fr Line {}:  {}'.format(sample_i + 1, french_sentences[sample_i]))"
   ]
  },
  {
   "cell_type": "markdown",
   "metadata": {},
   "source": [
    "From looking at the sentences, you can see they have been preprocessed already.  The puncuations have been delimited using spaces. All the text have been converted to lowercase.  This should save you some time, but the text requires more preprocessing.\n",
    "### Vocabulary\n",
    "The complexity of the problem is determined by the complexity of the vocabulary.  A more complex vocabulary is a more complex problem.  Let's look at the complexity of the dataset we'll be working with."
   ]
  },
  {
   "cell_type": "code",
   "execution_count": 6,
   "metadata": {},
   "outputs": [
    {
     "name": "stdout",
     "output_type": "stream",
     "text": [
      "1823250 English words.\n",
      "227 unique English words.\n",
      "10 Most common words in the English dataset:\n",
      "\"is\" \",\" \".\" \"in\" \"it\" \"during\" \"the\" \"but\" \"and\" \"sometimes\"\n",
      "\n",
      "1961295 French words.\n",
      "355 unique French words.\n",
      "10 Most common words in the French dataset:\n",
      "\"est\" \".\" \",\" \"en\" \"il\" \"les\" \"mais\" \"et\" \"la\" \"parfois\"\n"
     ]
    }
   ],
   "source": [
    "english_words_counter = collections.Counter([word for sentence in english_sentences for word in sentence.split()])\n",
    "french_words_counter = collections.Counter([word for sentence in french_sentences for word in sentence.split()])\n",
    "\n",
    "print('{} English words.'.format(len([word for sentence in english_sentences for word in sentence.split()])))\n",
    "print('{} unique English words.'.format(len(english_words_counter)))\n",
    "print('10 Most common words in the English dataset:')\n",
    "print('\"' + '\" \"'.join(list(zip(*english_words_counter.most_common(10)))[0]) + '\"')\n",
    "print()\n",
    "print('{} French words.'.format(len([word for sentence in french_sentences for word in sentence.split()])))\n",
    "print('{} unique French words.'.format(len(french_words_counter)))\n",
    "print('10 Most common words in the French dataset:')\n",
    "print('\"' + '\" \"'.join(list(zip(*french_words_counter.most_common(10)))[0]) + '\"')"
   ]
  },
  {
   "cell_type": "markdown",
   "metadata": {},
   "source": [
    "For comparison, _Alice's Adventures in Wonderland_ contains 2,766 unique words of a total of 15,500 words.\n",
    "## Preprocess\n",
    "For this project, you won't use text data as input to your model. Instead, you'll convert the text into sequences of integers using the following preprocess methods:\n",
    "1. Tokenize the words into ids\n",
    "2. Add padding to make all the sequences the same length.\n",
    "\n",
    "Time to start preprocessing the data...\n",
    "### Tokenize (IMPLEMENTATION)\n",
    "For a neural network to predict on text data, it first has to be turned into data it can understand. Text data like \"dog\" is a sequence of ASCII character encodings.  Since a neural network is a series of multiplication and addition operations, the input data needs to be number(s).\n",
    "\n",
    "We can turn each character into a number or each word into a number.  These are called character and word ids, respectively.  Character ids are used for character level models that generate text predictions for each character.  A word level model uses word ids that generate text predictions for each word.  Word level models tend to learn better, since they are lower in complexity, so we'll use those.\n",
    "\n",
    "Turn each sentence into a sequence of words ids using Keras's [`Tokenizer`](https://keras.io/preprocessing/text/#tokenizer) function. Use this function to tokenize `english_sentences` and `french_sentences` in the cell below.\n",
    "\n",
    "Running the cell will run `tokenize` on sample data and show output for debugging."
   ]
  },
  {
   "cell_type": "code",
   "execution_count": 7,
   "metadata": {},
   "outputs": [
    {
     "name": "stdout",
     "output_type": "stream",
     "text": [
      "{'lazy': 5, 'fox': 6, 'quick': 1, 'study': 9, 'jove': 10, 'is': 11, 'this': 12, 'lexicography': 20, 'by': 13, 'brown': 14, 'the': 2, 'my': 15, 'dog': 18, 'jumps': 16, 'won': 7, 'of': 19, 'short': 8, 'sentence': 4, 'prize': 17, 'over': 21, 'a': 3}\n",
      "\n",
      "Sequence 1 in x\n",
      "  Input:  The quick brown fox jumps over the lazy dog .\n",
      "  Output: [2, 1, 14, 6, 16, 21, 2, 5, 18]\n",
      "Sequence 2 in x\n",
      "  Input:  By Jove , my quick study of lexicography won a prize .\n",
      "  Output: [13, 10, 15, 1, 9, 19, 20, 7, 3, 17]\n",
      "Sequence 3 in x\n",
      "  Input:  This is a short sentence .\n",
      "  Output: [12, 11, 3, 8, 4]\n"
     ]
    }
   ],
   "source": [
    "def tokenize(x):\n",
    "    \"\"\"\n",
    "    Tokenize x\n",
    "    :param x: List of sentences/strings to be tokenized\n",
    "    :return: Tuple of (tokenized x data, tokenizer used to tokenize x)\n",
    "    \"\"\"\n",
    "    # TODO: Implement\n",
    "    tokenizer = Tokenizer()\n",
    "    tokenizer.fit_on_texts(x)\n",
    "    sequences = tokenizer.texts_to_sequences(x)\n",
    "    \n",
    "    return sequences, tokenizer\n",
    "tests.test_tokenize(tokenize)\n",
    "\n",
    "# Tokenize Example output\n",
    "text_sentences = [\n",
    "    'The quick brown fox jumps over the lazy dog .',\n",
    "    'By Jove , my quick study of lexicography won a prize .',\n",
    "    'This is a short sentence .']\n",
    "text_tokenized, text_tokenizer = tokenize(text_sentences)\n",
    "print(text_tokenizer.word_index)\n",
    "print()\n",
    "for sample_i, (sent, token_sent) in enumerate(zip(text_sentences, text_tokenized)):\n",
    "    print('Sequence {} in x'.format(sample_i + 1))\n",
    "    print('  Input:  {}'.format(sent))\n",
    "    print('  Output: {}'.format(token_sent))"
   ]
  },
  {
   "cell_type": "markdown",
   "metadata": {},
   "source": [
    "### Padding (IMPLEMENTATION)\n",
    "When batching the sequence of word ids together, each sequence needs to be the same length.  Since sentences are dynamic in length, we can add padding to the end of the sequences to make them the same length.\n",
    "\n",
    "Make sure all the English sequences have the same length and all the French sequences have the same length by adding padding to the **end** of each sequence using Keras's [`pad_sequences`](https://keras.io/preprocessing/sequence/#pad_sequences) function."
   ]
  },
  {
   "cell_type": "code",
   "execution_count": 8,
   "metadata": {},
   "outputs": [
    {
     "name": "stdout",
     "output_type": "stream",
     "text": [
      "Sequence 1 in x\n",
      "  Input:  [ 2  1 14  6 16 21  2  5 18]\n",
      "  Output: [ 2  1 14  6 16 21  2  5 18  0]\n",
      "Sequence 2 in x\n",
      "  Input:  [13 10 15  1  9 19 20  7  3 17]\n",
      "  Output: [13 10 15  1  9 19 20  7  3 17]\n",
      "Sequence 3 in x\n",
      "  Input:  [12 11  3  8  4]\n",
      "  Output: [12 11  3  8  4  0  0  0  0  0]\n"
     ]
    }
   ],
   "source": [
    "def pad(x, length=None):\n",
    "    \"\"\"\n",
    "    Pad x\n",
    "    :param x: List of sequences.\n",
    "    :param length: Length to pad the sequence to.  If None, use length of longest sequence in x.\n",
    "    :return: Padded numpy array of sequences\n",
    "    \"\"\"\n",
    "    # TODO: Implement\n",
    "    return pad_sequences(x, maxlen=length, padding='post')\n",
    "tests.test_pad(pad)\n",
    "\n",
    "# Pad Tokenized output\n",
    "test_pad = pad(text_tokenized)\n",
    "for sample_i, (token_sent, pad_sent) in enumerate(zip(text_tokenized, test_pad)):\n",
    "    print('Sequence {} in x'.format(sample_i + 1))\n",
    "    print('  Input:  {}'.format(np.array(token_sent)))\n",
    "    print('  Output: {}'.format(pad_sent))"
   ]
  },
  {
   "cell_type": "markdown",
   "metadata": {},
   "source": [
    "### Preprocess Pipeline\n",
    "Your focus for this project is to build neural network architecture, so we won't ask you to create a preprocess pipeline.  Instead, we've provided you with the implementation of the `preprocess` function."
   ]
  },
  {
   "cell_type": "code",
   "execution_count": 9,
   "metadata": {},
   "outputs": [
    {
     "name": "stdout",
     "output_type": "stream",
     "text": [
      "Data Preprocessed\n",
      "Max English sentence length: 15\n",
      "Max French sentence length: 21\n",
      "English vocabulary size: 199\n",
      "French vocabulary size: 344\n"
     ]
    }
   ],
   "source": [
    "def preprocess(x, y):\n",
    "    \"\"\"\n",
    "    Preprocess x and y\n",
    "    :param x: Feature List of sentences\n",
    "    :param y: Label List of sentences\n",
    "    :return: Tuple of (Preprocessed x, Preprocessed y, x tokenizer, y tokenizer)\n",
    "    \"\"\"\n",
    "    preprocess_x, x_tk = tokenize(x)\n",
    "    preprocess_y, y_tk = tokenize(y)\n",
    "\n",
    "    preprocess_x = pad(preprocess_x)\n",
    "    preprocess_y = pad(preprocess_y)\n",
    "\n",
    "    # Keras's sparse_categorical_crossentropy function requires the labels to be in 3 dimensions\n",
    "    preprocess_y = preprocess_y.reshape(*preprocess_y.shape, 1)\n",
    "\n",
    "    return preprocess_x, preprocess_y, x_tk, y_tk\n",
    "\n",
    "preproc_english_sentences, preproc_french_sentences, english_tokenizer, french_tokenizer =\\\n",
    "    preprocess(english_sentences, french_sentences)\n",
    "    \n",
    "max_english_sequence_length = preproc_english_sentences.shape[1]\n",
    "max_french_sequence_length = preproc_french_sentences.shape[1]\n",
    "english_vocab_size = len(english_tokenizer.word_index)\n",
    "french_vocab_size = len(french_tokenizer.word_index)\n",
    "\n",
    "print('Data Preprocessed')\n",
    "print(\"Max English sentence length:\", max_english_sequence_length)\n",
    "print(\"Max French sentence length:\", max_french_sequence_length)\n",
    "print(\"English vocabulary size:\", english_vocab_size)\n",
    "print(\"French vocabulary size:\", french_vocab_size)"
   ]
  },
  {
   "cell_type": "markdown",
   "metadata": {},
   "source": [
    "## Models\n",
    "In this section, you will experiment with various neural network architectures.\n",
    "You will begin by training four relatively simple architectures.\n",
    "- Model 1 is a simple RNN\n",
    "- Model 2 is a RNN with Embedding\n",
    "- Model 3 is a Bidirectional RNN\n",
    "- Model 4 is an optional Encoder-Decoder RNN\n",
    "\n",
    "After experimenting with the four simple architectures, you will construct a deeper architecture that is designed to outperform all four models.\n",
    "### Ids Back to Text\n",
    "The neural network will be translating the input to words ids, which isn't the final form we want.  We want the French translation.  The function `logits_to_text` will bridge the gab between the logits from the neural network to the French translation.  You'll be using this function to better understand the output of the neural network."
   ]
  },
  {
   "cell_type": "code",
   "execution_count": 10,
   "metadata": {},
   "outputs": [
    {
     "name": "stdout",
     "output_type": "stream",
     "text": [
      "`logits_to_text` function loaded.\n"
     ]
    }
   ],
   "source": [
    "def logits_to_text(logits, tokenizer):\n",
    "    \"\"\"\n",
    "    Turn logits from a neural network into text using the tokenizer\n",
    "    :param logits: Logits from a neural network\n",
    "    :param tokenizer: Keras Tokenizer fit on the labels\n",
    "    :return: String that represents the text of the logits\n",
    "    \"\"\"\n",
    "    index_to_words = {id: word for word, id in tokenizer.word_index.items()}\n",
    "    index_to_words[0] = '<PAD>'\n",
    "\n",
    "    return ' '.join([index_to_words[prediction] for prediction in np.argmax(logits, 1)])\n",
    "\n",
    "print('`logits_to_text` function loaded.')"
   ]
  },
  {
   "cell_type": "markdown",
   "metadata": {},
   "source": [
    "### Model 1: RNN (IMPLEMENTATION)\n",
    "![RNN](images/rnn.png)\n",
    "A basic RNN model is a good baseline for sequence data.  In this model, you'll build a RNN that translates English to French."
   ]
  },
  {
   "cell_type": "code",
   "execution_count": 11,
   "metadata": {
    "scrolled": true
   },
   "outputs": [
    {
     "name": "stdout",
     "output_type": "stream",
     "text": [
      "Train on 110288 samples, validate on 27573 samples\n",
      "Epoch 1/10\n",
      "110288/110288 [==============================] - 9s - loss: 2.0083 - acc: 0.5439 - val_loss: 1.4507 - val_acc: 0.6106\n",
      "Epoch 2/10\n",
      "110288/110288 [==============================] - 7s - loss: 1.3223 - acc: 0.6293 - val_loss: 1.2229 - val_acc: 0.6438\n",
      "Epoch 3/10\n",
      "110288/110288 [==============================] - 7s - loss: 1.1655 - acc: 0.6561 - val_loss: 1.1192 - val_acc: 0.6618\n",
      "Epoch 4/10\n",
      "110288/110288 [==============================] - 7s - loss: 1.0950 - acc: 0.6655 - val_loss: 1.0624 - val_acc: 0.6724\n",
      "Epoch 5/10\n",
      "110288/110288 [==============================] - 7s - loss: 1.0468 - acc: 0.6729 - val_loss: 1.0241 - val_acc: 0.6756\n",
      "Epoch 6/10\n",
      "110288/110288 [==============================] - 7s - loss: 1.0099 - acc: 0.6804 - val_loss: 0.9916 - val_acc: 0.6857 1.0133 - acc: 0 - ETA: \n",
      "Epoch 7/10\n",
      "110288/110288 [==============================] - 7s - loss: 0.9814 - acc: 0.6880 - val_loss: 0.9650 - val_acc: 0.6942A: 0s - loss: 0.9808 - a\n",
      "Epoch 8/10\n",
      "110288/110288 [==============================] - 7s - loss: 0.9568 - acc: 0.6958 - val_loss: 0.9395 - val_acc: 0.6981\n",
      "Epoch 9/10\n",
      "110288/110288 [==============================] - 7s - loss: 0.9321 - acc: 0.7016 - val_loss: 0.9190 - val_acc: 0.7052\n",
      "Epoch 10/10\n",
      "110288/110288 [==============================] - 7s - loss: 0.9137 - acc: 0.7064 - val_loss: 0.9164 - val_acc: 0.7083\n",
      "new jersey est parfois chaud en mois de et et il est en en <PAD> <PAD> <PAD> <PAD> <PAD> <PAD> <PAD>\n"
     ]
    }
   ],
   "source": [
    "def simple_model(input_shape, output_sequence_length, english_vocab_size, french_vocab_size):\n",
    "    \"\"\"\n",
    "    Build and train a basic RNN on x and y\n",
    "    :param input_shape: Tuple of input shape\n",
    "    :param output_sequence_length: Length of output sequence\n",
    "    :param english_vocab_size: Number of unique English words in the dataset\n",
    "    :param french_vocab_size: Number of unique French words in the dataset\n",
    "    :return: Keras model built, but not trained\n",
    "    \"\"\"\n",
    "    # TODO: Build the layers\n",
    "    inputs = Input(shape=input_shape[1:])\n",
    "    rnn = GRU(100, return_sequences=True)(inputs)\n",
    "    predictions = Dense(french_vocab_size, activation='softmax')(rnn)\n",
    "    learning_rate = 0.01\n",
    "    \n",
    "    model = Model(inputs=inputs, outputs=predictions)\n",
    "    model.compile(loss=sparse_categorical_crossentropy,\n",
    "                  optimizer=Adam(learning_rate),\n",
    "                  metrics=['accuracy'])\n",
    "    return model\n",
    "tests.test_simple_model(simple_model)\n",
    "\n",
    "# Reshaping the input to work with a basic RNN\n",
    "tmp_x = pad(preproc_english_sentences, max_french_sequence_length)\n",
    "tmp_x = tmp_x.reshape((-1, preproc_french_sentences.shape[-2], 1))\n",
    "\n",
    "# Train the neural network\n",
    "simple_rnn_model = simple_model(\n",
    "    tmp_x.shape,\n",
    "    max_french_sequence_length,\n",
    "    english_vocab_size+1,\n",
    "    french_vocab_size+1)\n",
    "simple_rnn_model.fit(tmp_x, preproc_french_sentences, batch_size=1024, epochs=10, validation_split=0.2)\n",
    "\n",
    "# Print prediction(s)\n",
    "print(logits_to_text(simple_rnn_model.predict(tmp_x[:1])[0], french_tokenizer))"
   ]
  },
  {
   "cell_type": "markdown",
   "metadata": {},
   "source": [
    "### Model 2: Embedding (IMPLEMENTATION)\n",
    "![RNN](images/embedding.png)\n",
    "You've turned the words into ids, but there's a better representation of a word.  This is called word embeddings.  An embedding is a vector representation of the word that is close to similar words in n-dimensional space, where the n represents the size of the embedding vectors.\n",
    "\n",
    "In this model, you'll create a RNN model using embedding."
   ]
  },
  {
   "cell_type": "code",
   "execution_count": 12,
   "metadata": {},
   "outputs": [
    {
     "name": "stdout",
     "output_type": "stream",
     "text": [
      "Train on 110288 samples, validate on 27573 samples\n",
      "Epoch 1/15\n",
      "110288/110288 [==============================] - 9s - loss: 1.7737 - acc: 0.6262 - val_loss: 0.6580 - val_acc: 0.8117\n",
      "Epoch 2/15\n",
      "110288/110288 [==============================] - 8s - loss: 0.5016 - acc: 0.8498 - val_loss: 0.3901 - val_acc: 0.8826\n",
      "Epoch 3/15\n",
      "110288/110288 [==============================] - 8s - loss: 0.3458 - acc: 0.8942 - val_loss: 0.3016 - val_acc: 0.9078\n",
      "Epoch 4/15\n",
      "110288/110288 [==============================] - 8s - loss: 0.2873 - acc: 0.9099 - val_loss: 0.2687 - val_acc: 0.9162\n",
      "Epoch 5/15\n",
      "110288/110288 [==============================] - 8s - loss: 0.2560 - acc: 0.9184 - val_loss: 0.2467 - val_acc: 0.9214\n",
      "Epoch 6/15\n",
      "110288/110288 [==============================] - 8s - loss: 0.2362 - acc: 0.9236 - val_loss: 0.2358 - val_acc: 0.9243\n",
      "Epoch 7/15\n",
      "110288/110288 [==============================] - 8s - loss: 0.2296 - acc: 0.9250 - val_loss: 0.2331 - val_acc: 0.9238\n",
      "Epoch 8/15\n",
      "110288/110288 [==============================] - 8s - loss: 0.2198 - acc: 0.9273 - val_loss: 0.2326 - val_acc: 0.9253\n",
      "Epoch 9/15\n",
      "110288/110288 [==============================] - 8s - loss: 0.2146 - acc: 0.9286 - val_loss: 0.2215 - val_acc: 0.9279\n",
      "Epoch 10/15\n",
      "110288/110288 [==============================] - 8s - loss: 0.2111 - acc: 0.9293 - val_loss: 0.2167 - val_acc: 0.9288\n",
      "Epoch 11/15\n",
      "110288/110288 [==============================] - 8s - loss: 0.2085 - acc: 0.9299 - val_loss: 0.2231 - val_acc: 0.9262\n",
      "Epoch 12/15\n",
      "110288/110288 [==============================] - 8s - loss: 0.2067 - acc: 0.9303 - val_loss: 0.2163 - val_acc: 0.9284\n",
      "Epoch 13/15\n",
      "110288/110288 [==============================] - 8s - loss: 0.2100 - acc: 0.9291 - val_loss: 0.2257 - val_acc: 0.9256\n",
      "Epoch 14/15\n",
      "110288/110288 [==============================] - 8s - loss: 0.2017 - acc: 0.9314 - val_loss: 0.2058 - val_acc: 0.9309\n",
      "Epoch 15/15\n",
      "110288/110288 [==============================] - 8s - loss: 0.1960 - acc: 0.9327 - val_loss: 0.2046 - val_acc: 0.9321\n",
      "new jersey est parfois calme au l' automne et il est neigeux en avril <PAD> <PAD> <PAD> <PAD> <PAD> <PAD> <PAD>\n"
     ]
    }
   ],
   "source": [
    "def embed_model(input_shape, output_sequence_length, english_vocab_size, french_vocab_size):\n",
    "    \"\"\"\n",
    "    Build and train a RNN model using word embedding on x and y\n",
    "    :param input_shape: Tuple of input shape\n",
    "    :param output_sequence_length: Length of output sequence\n",
    "    :param english_vocab_size: Number of unique English words in the dataset\n",
    "    :param french_vocab_size: Number of unique French words in the dataset\n",
    "    :return: Keras model built, but not trained\n",
    "    \"\"\"\n",
    "    # TODO: Implement\n",
    "    inputs = Input(shape=input_shape[1:])\n",
    "    embeddings = Embedding(english_vocab_size, 100, input_length=input_shape[1])(inputs)\n",
    "    rnn = GRU(100, return_sequences=True)(embeddings)\n",
    "    predictions = Dense(french_vocab_size, activation='softmax')(rnn)\n",
    "    learning_rate = 0.01\n",
    "    \n",
    "    model = Model(inputs=inputs, outputs=predictions)\n",
    "    model.compile(loss=sparse_categorical_crossentropy, optimizer=Adam(learning_rate), metrics=['accuracy'])\n",
    "    \n",
    "    return model\n",
    "tests.test_embed_model(embed_model)\n",
    "\n",
    "\n",
    "# TODO: Reshape the input\n",
    "tmp_x = pad(preproc_english_sentences, max_french_sequence_length)\n",
    "\n",
    "# TODO: Train the neural network\n",
    "embed_rnn_model = embed_model(tmp_x.shape, max_french_sequence_length, english_vocab_size+1, french_vocab_size+1)\n",
    "embed_rnn_model.fit(tmp_x, preproc_french_sentences, batch_size=1024, epochs=15, validation_split=0.2)\n",
    "\n",
    "# TODO: Print prediction(s)\n",
    "print(logits_to_text(embed_rnn_model.predict(tmp_x[:1])[0], french_tokenizer))"
   ]
  },
  {
   "cell_type": "markdown",
   "metadata": {},
   "source": [
    "### Model 3: Bidirectional RNNs (IMPLEMENTATION)\n",
    "![RNN](images/bidirectional.png)\n",
    "One restriction of a RNN is that it can't see the future input, only the past.  This is where bidirectional recurrent neural networks come in.  They are able to see the future data."
   ]
  },
  {
   "cell_type": "code",
   "execution_count": 13,
   "metadata": {},
   "outputs": [
    {
     "name": "stdout",
     "output_type": "stream",
     "text": [
      "Train on 110288 samples, validate on 27573 samples\n",
      "Epoch 1/15\n",
      "110288/110288 [==============================] - 12s - loss: 1.6735 - acc: 0.5972 - val_loss: 1.2103 - val_acc: 0.6508\n",
      "Epoch 2/15\n",
      "110288/110288 [==============================] - 12s - loss: 1.1213 - acc: 0.6700 - val_loss: 1.1663 - val_acc: 0.6554\n",
      "Epoch 3/15\n",
      "110288/110288 [==============================] - 12s - loss: 1.0367 - acc: 0.6825 - val_loss: 1.0000 - val_acc: 0.6880\n",
      "Epoch 4/15\n",
      "110288/110288 [==============================] - 12s - loss: 0.9620 - acc: 0.6952 - val_loss: 0.9324 - val_acc: 0.7012\n",
      "Epoch 5/15\n",
      "110288/110288 [==============================] - 12s - loss: 0.9281 - acc: 0.7006 - val_loss: 0.9022 - val_acc: 0.7056\n",
      "Epoch 6/15\n",
      "110288/110288 [==============================] - 12s - loss: 0.8993 - acc: 0.7067 - val_loss: 0.8815 - val_acc: 0.7113\n",
      "Epoch 7/15\n",
      "110288/110288 [==============================] - 12s - loss: 0.8637 - acc: 0.7158 - val_loss: 0.8601 - val_acc: 0.7155\n",
      "Epoch 8/15\n",
      "110288/110288 [==============================] - 12s - loss: 0.8333 - acc: 0.7235 - val_loss: 0.8169 - val_acc: 0.7280\n",
      "Epoch 9/15\n",
      "110288/110288 [==============================] - 12s - loss: 0.8116 - acc: 0.7290 - val_loss: 0.8074 - val_acc: 0.7277\n",
      "Epoch 10/15\n",
      "110288/110288 [==============================] - 12s - loss: 0.7884 - acc: 0.7373 - val_loss: 0.7754 - val_acc: 0.7426\n",
      "Epoch 11/15\n",
      "110288/110288 [==============================] - 12s - loss: 0.7670 - acc: 0.7451 - val_loss: 0.7467 - val_acc: 0.7528\n",
      "Epoch 12/15\n",
      "110288/110288 [==============================] - 12s - loss: 0.7435 - acc: 0.7524 - val_loss: 0.7336 - val_acc: 0.7551\n",
      "Epoch 13/15\n",
      "110288/110288 [==============================] - 12s - loss: 0.7269 - acc: 0.7579 - val_loss: 0.7139 - val_acc: 0.7639\n",
      "Epoch 14/15\n",
      "110288/110288 [==============================] - 12s - loss: 0.7128 - acc: 0.7634 - val_loss: 0.7408 - val_acc: 0.7581\n",
      "Epoch 15/15\n",
      "110288/110288 [==============================] - 12s - loss: 0.7035 - acc: 0.7658 - val_loss: 0.6936 - val_acc: 0.7716\n",
      "new jersey est parfois calme en mars de et et il est en en <PAD> <PAD> <PAD> <PAD> <PAD> <PAD> <PAD>\n"
     ]
    }
   ],
   "source": [
    "def bd_model(input_shape, output_sequence_length, english_vocab_size, french_vocab_size):\n",
    "    \"\"\"\n",
    "    Build and train a bidirectional RNN model on x and y\n",
    "    :param input_shape: Tuple of input shape\n",
    "    :param output_sequence_length: Length of output sequence\n",
    "    :param english_vocab_size: Number of unique English words in the dataset\n",
    "    :param french_vocab_size: Number of unique French words in the dataset\n",
    "    :return: Keras model built, but not trained\n",
    "    \"\"\"\n",
    "    # TODO: Implement\n",
    "    inputs = Input(shape=input_shape[1:])\n",
    "    bd_rnn = Bidirectional(GRU(100, return_sequences=True))(inputs)\n",
    "    predictions = Dense(french_vocab_size, activation='softmax')(bd_rnn)\n",
    "    learning_rate = 0.01\n",
    "    \n",
    "    model = Model(inputs=inputs, outputs=predictions)\n",
    "    model.compile(loss=sparse_categorical_crossentropy, optimizer=Adam(learning_rate), metrics=['accuracy'])\n",
    "    \n",
    "    return model\n",
    "tests.test_bd_model(bd_model)\n",
    "\n",
    "# TODO: Train and Print prediction(s)\n",
    "tmp_x = pad(preproc_english_sentences, max_french_sequence_length)\n",
    "tmp_x = tmp_x.reshape((-1, preproc_french_sentences.shape[-2], 1))\n",
    "\n",
    "bd_rnn_model = bd_model(tmp_x.shape, max_french_sequence_length, english_vocab_size+1, french_vocab_size+1)\n",
    "bd_rnn_model.fit(tmp_x, preproc_french_sentences, batch_size=1024, epochs=15, validation_split=0.2)\n",
    "\n",
    "print(logits_to_text(bd_rnn_model.predict(tmp_x[:1])[0], french_tokenizer))"
   ]
  },
  {
   "cell_type": "markdown",
   "metadata": {},
   "source": [
    "### Model 4: Encoder-Decoder (OPTIONAL)\n",
    "Time to look at encoder-decoder models.  This model is made up of an encoder and decoder. The encoder creates a matrix representation of the sentence.  The decoder takes this matrix as input and predicts the translation as output.\n",
    "\n",
    "Create an encoder-decoder model in the cell below."
   ]
  },
  {
   "cell_type": "code",
   "execution_count": 14,
   "metadata": {
    "scrolled": true
   },
   "outputs": [
    {
     "name": "stdout",
     "output_type": "stream",
     "text": [
      "Train on 110288 samples, validate on 27573 samples\n",
      "Epoch 1/15\n",
      "110288/110288 [==============================] - 12s - loss: 2.7375 - acc: 0.4488 - val_loss: 2.3024 - val_acc: 0.4968\n",
      "Epoch 2/15\n",
      "110288/110288 [==============================] - 12s - loss: 2.0481 - acc: 0.5213 - val_loss: 1.7982 - val_acc: 0.5415\n",
      "Epoch 3/15\n",
      "110288/110288 [==============================] - 12s - loss: 1.6954 - acc: 0.5649 - val_loss: 1.6120 - val_acc: 0.5782\n",
      "Epoch 4/15\n",
      "110288/110288 [==============================] - 12s - loss: 1.5857 - acc: 0.5812 - val_loss: 1.5284 - val_acc: 0.5946\n",
      "Epoch 5/15\n",
      "110288/110288 [==============================] - 12s - loss: 1.4920 - acc: 0.5994 - val_loss: 1.4749 - val_acc: 0.5972\n",
      "Epoch 6/15\n",
      "110288/110288 [==============================] - 12s - loss: 1.4255 - acc: 0.6095 - val_loss: 1.3931 - val_acc: 0.6141\n",
      "Epoch 7/15\n",
      "110288/110288 [==============================] - 12s - loss: 1.3790 - acc: 0.6180 - val_loss: 1.3620 - val_acc: 0.6164\n",
      "Epoch 8/15\n",
      "110288/110288 [==============================] - 12s - loss: 1.3429 - acc: 0.6260 - val_loss: 1.3390 - val_acc: 0.6264\n",
      "Epoch 9/15\n",
      "110288/110288 [==============================] - 12s - loss: 1.3262 - acc: 0.6296 - val_loss: 1.3020 - val_acc: 0.6359\n",
      "Epoch 10/15\n",
      "110288/110288 [==============================] - 12s - loss: 1.3201 - acc: 0.6295 - val_loss: 1.2899 - val_acc: 0.6389\n",
      "Epoch 11/15\n",
      "110288/110288 [==============================] - 12s - loss: 1.2893 - acc: 0.6393 - val_loss: 1.2901 - val_acc: 0.6392\n",
      "Epoch 12/15\n",
      "110288/110288 [==============================] - 12s - loss: 1.2987 - acc: 0.6373 - val_loss: 1.3916 - val_acc: 0.6061\n",
      "Epoch 13/15\n",
      "110288/110288 [==============================] - 12s - loss: 1.2896 - acc: 0.6361 - val_loss: 1.2479 - val_acc: 0.6519\n",
      "Epoch 14/15\n",
      "110288/110288 [==============================] - 12s - loss: 1.2432 - acc: 0.6500 - val_loss: 1.2383 - val_acc: 0.6501\n",
      "Epoch 15/15\n",
      "110288/110288 [==============================] - 12s - loss: 1.2612 - acc: 0.6434 - val_loss: 1.2504 - val_acc: 0.6469\n",
      "new jersey est parfois chaud en mois et il est est en en <PAD> <PAD> <PAD> <PAD> <PAD> <PAD> <PAD> <PAD>\n"
     ]
    }
   ],
   "source": [
    "def encdec_model(input_shape, output_sequence_length, english_vocab_size, french_vocab_size):\n",
    "    \"\"\"\n",
    "    Build and train an encoder-decoder model on x and y\n",
    "    :param input_shape: Tuple of input shape\n",
    "    :param output_sequence_length: Length of output sequence\n",
    "    :param english_vocab_size: Number of unique English words in the dataset\n",
    "    :param french_vocab_size: Number of unique French words in the dataset\n",
    "    :return: Keras model built, but not trained\n",
    "    \"\"\"\n",
    "    # OPTIONAL: Implement\n",
    "    encoder_inputs = Input(shape=input_shape[1:])\n",
    "    encoder_rnn = GRU(100)\n",
    "    encoder_outputs = encoder_rnn(encoder_inputs)\n",
    "    \n",
    "    decoder_inputs = RepeatVector(output_sequence_length)(encoder_outputs)\n",
    "    decoder_rnn = GRU(100, return_sequences=True)\n",
    "    decoder_outputs = decoder_rnn(decoder_inputs)\n",
    "    decoder_dense = Dense(french_vocab_size, activation='softmax')\n",
    "    decoder_outputs = decoder_dense(decoder_outputs)\n",
    "    learning_rate = 0.01\n",
    "    \n",
    "    model = Model(encoder_inputs, decoder_outputs)\n",
    "    model.compile(loss=sparse_categorical_crossentropy, optimizer=Adam(learning_rate), metrics=['accuracy'])\n",
    "    return model\n",
    "tests.test_encdec_model(encdec_model)\n",
    "\n",
    "\n",
    "# OPTIONAL: Train and Print prediction(s)\n",
    "tmp_x = pad(preproc_english_sentences, max_french_sequence_length)\n",
    "tmp_x = tmp_x.reshape(-1, preproc_french_sentences.shape[-2], 1)\n",
    "\n",
    "encdec_rnn_model = encdec_model(tmp_x.shape, max_french_sequence_length, english_vocab_size+1, french_vocab_size+1)\n",
    "encdec_rnn_model.fit(tmp_x, preproc_french_sentences, batch_size=1024, epochs=15, validation_split=0.2)\n",
    "\n",
    "print(logits_to_text(encdec_rnn_model.predict(tmp_x[:1])[0], french_tokenizer))"
   ]
  },
  {
   "cell_type": "markdown",
   "metadata": {},
   "source": [
    "### Model 5: Custom (IMPLEMENTATION)\n",
    "Use everything you learned from the previous models to create a model that incorporates embedding and a bidirectional rnn into one model."
   ]
  },
  {
   "cell_type": "code",
   "execution_count": 15,
   "metadata": {},
   "outputs": [
    {
     "name": "stdout",
     "output_type": "stream",
     "text": [
      "Final Model Loaded\n",
      "Train on 110288 samples, validate on 27573 samples\n",
      "Epoch 1/30\n",
      "110288/110288 [==============================] - 32s - loss: 2.6736 - acc: 0.4513 - val_loss: 2.0439 - val_acc: 0.5044\n",
      "Epoch 2/30\n",
      "110288/110288 [==============================] - 31s - loss: 1.7573 - acc: 0.5619 - val_loss: 1.6191 - val_acc: 0.5860\n",
      "Epoch 3/30\n",
      "110288/110288 [==============================] - 31s - loss: 1.3731 - acc: 0.6415 - val_loss: 1.2431 - val_acc: 0.6680\n",
      "Epoch 4/30\n",
      "110288/110288 [==============================] - 31s - loss: 1.1339 - acc: 0.6909 - val_loss: 1.0149 - val_acc: 0.7161\n",
      "Epoch 5/30\n",
      "110288/110288 [==============================] - 31s - loss: 0.9353 - acc: 0.7353 - val_loss: 0.8456 - val_acc: 0.7580\n",
      "Epoch 6/30\n",
      "110288/110288 [==============================] - 31s - loss: 0.7831 - acc: 0.7730 - val_loss: 0.7290 - val_acc: 0.7873\n",
      "Epoch 7/30\n",
      "110288/110288 [==============================] - 31s - loss: 0.6677 - acc: 0.8061 - val_loss: 0.6369 - val_acc: 0.8145\n",
      "Epoch 8/30\n",
      "110288/110288 [==============================] - 31s - loss: 0.5659 - acc: 0.8365 - val_loss: 0.5198 - val_acc: 0.8514\n",
      "Epoch 9/30\n",
      "110288/110288 [==============================] - 31s - loss: 0.4681 - acc: 0.8689 - val_loss: 0.4223 - val_acc: 0.8840\n",
      "Epoch 10/30\n",
      "110288/110288 [==============================] - 31s - loss: 0.3784 - acc: 0.8979 - val_loss: 0.3340 - val_acc: 0.9131\n",
      "Epoch 11/30\n",
      "110288/110288 [==============================] - 31s - loss: 0.3041 - acc: 0.9226 - val_loss: 0.2797 - val_acc: 0.9315\n",
      "Epoch 12/30\n",
      "110288/110288 [==============================] - 31s - loss: 0.2404 - acc: 0.9419 - val_loss: 0.2198 - val_acc: 0.9483\n",
      "Epoch 13/30\n",
      "110288/110288 [==============================] - 31s - loss: 0.1940 - acc: 0.9538 - val_loss: 0.1830 - val_acc: 0.9551\n",
      "Epoch 14/30\n",
      "110288/110288 [==============================] - 31s - loss: 0.1607 - acc: 0.9609 - val_loss: 0.1577 - val_acc: 0.9609\n",
      "Epoch 15/30\n",
      "110288/110288 [==============================] - 31s - loss: 0.1388 - acc: 0.9653 - val_loss: 0.1403 - val_acc: 0.9639\n",
      "Epoch 16/30\n",
      "110288/110288 [==============================] - 31s - loss: 0.1228 - acc: 0.9686 - val_loss: 0.1421 - val_acc: 0.9624\n",
      "Epoch 17/30\n",
      "110288/110288 [==============================] - 31s - loss: 0.1090 - acc: 0.9717 - val_loss: 0.1176 - val_acc: 0.9690\n",
      "Epoch 18/30\n",
      "110288/110288 [==============================] - 31s - loss: 0.1031 - acc: 0.9731 - val_loss: 0.1194 - val_acc: 0.9681\n",
      "Epoch 19/30\n",
      "110288/110288 [==============================] - 31s - loss: 0.0920 - acc: 0.9758 - val_loss: 0.1027 - val_acc: 0.9722\n",
      "Epoch 20/30\n",
      "110288/110288 [==============================] - 31s - loss: 0.0880 - acc: 0.9767 - val_loss: 0.1092 - val_acc: 0.9707\n",
      "Epoch 21/30\n",
      "110288/110288 [==============================] - 31s - loss: 0.0750 - acc: 0.9800 - val_loss: 0.0860 - val_acc: 0.9769\n",
      "Epoch 22/30\n",
      "110288/110288 [==============================] - 31s - loss: 0.0673 - acc: 0.9823 - val_loss: 0.1413 - val_acc: 0.9650\n",
      "Epoch 23/30\n",
      "110288/110288 [==============================] - 31s - loss: 0.0784 - acc: 0.9791 - val_loss: 0.0860 - val_acc: 0.9776\n",
      "Epoch 24/30\n",
      "110288/110288 [==============================] - 31s - loss: 0.0573 - acc: 0.9848 - val_loss: 0.0825 - val_acc: 0.9779\n",
      "Epoch 25/30\n",
      "110288/110288 [==============================] - 31s - loss: 0.0716 - acc: 0.9809 - val_loss: 0.0918 - val_acc: 0.9763\n",
      "Epoch 26/30\n",
      "110288/110288 [==============================] - 31s - loss: 0.0622 - acc: 0.9833 - val_loss: 0.0754 - val_acc: 0.9796\n",
      "Epoch 27/30\n",
      "110288/110288 [==============================] - 31s - loss: 0.0491 - acc: 0.9868 - val_loss: 0.0765 - val_acc: 0.9791\n",
      "Epoch 28/30\n",
      "110288/110288 [==============================] - 31s - loss: 0.0436 - acc: 0.9883 - val_loss: 0.0784 - val_acc: 0.9792\n",
      "Epoch 29/30\n",
      "110288/110288 [==============================] - 31s - loss: 0.0400 - acc: 0.9892 - val_loss: 0.0706 - val_acc: 0.9817\n",
      "Epoch 30/30\n",
      "110288/110288 [==============================] - 31s - loss: 0.0427 - acc: 0.9886 - val_loss: 0.0819 - val_acc: 0.9791\n",
      "new jersey est parfois calme pendant l' automne et il est neigeux en avril <PAD> <PAD> <PAD> <PAD> <PAD> <PAD> <PAD>\n"
     ]
    }
   ],
   "source": [
    "def model_final(input_shape, output_sequence_length, english_vocab_size, french_vocab_size):\n",
    "    \"\"\"\n",
    "    Build and train a model that incorporates embedding, encoder-decoder, and bidirectional RNN on x and y\n",
    "    :param input_shape: Tuple of input shape\n",
    "    :param output_sequence_length: Length of output sequence\n",
    "    :param english_vocab_size: Number of unique English words in the dataset\n",
    "    :param french_vocab_size: Number of unique French words in the dataset\n",
    "    :return: Keras model built, but not trained\n",
    "    \"\"\"\n",
    "    # TODO: Implement\n",
    "    encoder_inputs = Input(shape=input_shape[1:])\n",
    "    embeddings = Embedding(english_vocab_size, 300, input_length=input_shape[1])(encoder_inputs)\n",
    "    encoder_rnn = GRU(200)\n",
    "    encoder_outputs = Bidirectional(encoder_rnn)(embeddings)\n",
    "    \n",
    "    decoder_inputs = RepeatVector(output_sequence_length)(encoder_outputs)\n",
    "    decoder_rnn = GRU(200, return_sequences=True)\n",
    "    decoder_outputs = decoder_rnn(decoder_inputs)\n",
    "    decoder_dense = Dense(french_vocab_size, activation='softmax')\n",
    "    decoder_outputs = decoder_dense(decoder_outputs)\n",
    "    learning_rate = 0.002\n",
    "    \n",
    "    model = Model(encoder_inputs, decoder_outputs)\n",
    "    model.compile(loss=sparse_categorical_crossentropy, optimizer=Adam(learning_rate), metrics=['accuracy'])\n",
    "    return model\n",
    "tests.test_model_final(model_final)\n",
    "\n",
    "\n",
    "print('Final Model Loaded')\n",
    "# TODO: Train the final model\n",
    "tmp_x = pad(preproc_english_sentences, max_french_sequence_length)\n",
    "\n",
    "rnn_model_final = model_final(tmp_x.shape, max_french_sequence_length, english_vocab_size+1, french_vocab_size+1)\n",
    "rnn_model_final.fit(tmp_x, preproc_french_sentences, batch_size=1024, epochs=30, validation_split=0.2)\n",
    "\n",
    "print(logits_to_text(rnn_model_final.predict(tmp_x[:1])[0], french_tokenizer))"
   ]
  },
  {
   "cell_type": "markdown",
   "metadata": {},
   "source": [
    "## Prediction (IMPLEMENTATION)"
   ]
  },
  {
   "cell_type": "code",
   "execution_count": 16,
   "metadata": {},
   "outputs": [
    {
     "name": "stdout",
     "output_type": "stream",
     "text": [
      "Train on 110288 samples, validate on 27573 samples\n",
      "Epoch 1/30\n",
      "110288/110288 [==============================] - 32s - loss: 2.6044 - acc: 0.4587 - val_loss: 2.0047 - val_acc: 0.5063\n",
      "Epoch 2/30\n",
      "110288/110288 [==============================] - 31s - loss: 1.7461 - acc: 0.5608 - val_loss: 1.5487 - val_acc: 0.6043\n",
      "Epoch 3/30\n",
      "110288/110288 [==============================] - 31s - loss: 1.3818 - acc: 0.6394 - val_loss: 1.2574 - val_acc: 0.6628\n",
      "Epoch 4/30\n",
      "110288/110288 [==============================] - 31s - loss: 1.1361 - acc: 0.6902 - val_loss: 1.0234 - val_acc: 0.7167\n",
      "Epoch 5/30\n",
      "110288/110288 [==============================] - 31s - loss: 0.9563 - acc: 0.7315 - val_loss: 0.8790 - val_acc: 0.7492\n",
      "Epoch 6/30\n",
      "110288/110288 [==============================] - 31s - loss: 0.8170 - acc: 0.7653 - val_loss: 0.7604 - val_acc: 0.7821\n",
      "Epoch 7/30\n",
      "110288/110288 [==============================] - 31s - loss: 0.6944 - acc: 0.8002 - val_loss: 0.6498 - val_acc: 0.8113\n",
      "Epoch 8/30\n",
      "110288/110288 [==============================] - 31s - loss: 0.5786 - acc: 0.8355 - val_loss: 0.5284 - val_acc: 0.8513\n",
      "Epoch 9/30\n",
      "110288/110288 [==============================] - 31s - loss: 0.4847 - acc: 0.8646 - val_loss: 0.4520 - val_acc: 0.8740\n",
      "Epoch 10/30\n",
      "110288/110288 [==============================] - 31s - loss: 0.3969 - acc: 0.8931 - val_loss: 0.3556 - val_acc: 0.9082\n",
      "Epoch 11/30\n",
      "110288/110288 [==============================] - 31s - loss: 0.3249 - acc: 0.9170 - val_loss: 0.2978 - val_acc: 0.9250\n",
      "Epoch 12/30\n",
      "110288/110288 [==============================] - 31s - loss: 0.2643 - acc: 0.9351 - val_loss: 0.2434 - val_acc: 0.9417\n",
      "Epoch 13/30\n",
      "110288/110288 [==============================] - 31s - loss: 0.2190 - acc: 0.9478 - val_loss: 0.2054 - val_acc: 0.9512\n",
      "Epoch 14/30\n",
      "110288/110288 [==============================] - 31s - loss: 0.1975 - acc: 0.9522 - val_loss: 0.1774 - val_acc: 0.9579\n",
      "Epoch 15/30\n",
      "110288/110288 [==============================] - 31s - loss: 0.1596 - acc: 0.9620 - val_loss: 0.1576 - val_acc: 0.9619\n",
      "Epoch 16/30\n",
      "110288/110288 [==============================] - 31s - loss: 0.1443 - acc: 0.9647 - val_loss: 0.1517 - val_acc: 0.9631\n",
      "Epoch 17/30\n",
      "110288/110288 [==============================] - 31s - loss: 0.1227 - acc: 0.9697 - val_loss: 0.1447 - val_acc: 0.9639\n",
      "Epoch 18/30\n",
      "110288/110288 [==============================] - 31s - loss: 0.1219 - acc: 0.9693 - val_loss: 0.1213 - val_acc: 0.9693\n",
      "Epoch 19/30\n",
      "110288/110288 [==============================] - 31s - loss: 0.1003 - acc: 0.9748 - val_loss: 0.1133 - val_acc: 0.9715\n",
      "Epoch 20/30\n",
      "110288/110288 [==============================] - 31s - loss: 0.0924 - acc: 0.9765 - val_loss: 0.1061 - val_acc: 0.9730\n",
      "Epoch 21/30\n",
      "110288/110288 [==============================] - 31s - loss: 0.0881 - acc: 0.9777 - val_loss: 0.1102 - val_acc: 0.9720\n",
      "Epoch 22/30\n",
      "110288/110288 [==============================] - 31s - loss: 0.0852 - acc: 0.9781 - val_loss: 0.1045 - val_acc: 0.9731\n",
      "Epoch 23/30\n",
      "110288/110288 [==============================] - 31s - loss: 0.0826 - acc: 0.9790 - val_loss: 0.0930 - val_acc: 0.9761\n",
      "Epoch 24/30\n",
      "110288/110288 [==============================] - 31s - loss: 0.0666 - acc: 0.9829 - val_loss: 0.0852 - val_acc: 0.9776\n",
      "Epoch 25/30\n",
      "110288/110288 [==============================] - 31s - loss: 0.0835 - acc: 0.9783 - val_loss: 0.0900 - val_acc: 0.9766\n",
      "Epoch 26/30\n",
      "110288/110288 [==============================] - 31s - loss: 0.0610 - acc: 0.9842 - val_loss: 0.0769 - val_acc: 0.9805\n",
      "Epoch 27/30\n",
      "110288/110288 [==============================] - 31s - loss: 0.0514 - acc: 0.9867 - val_loss: 0.0791 - val_acc: 0.9795\n",
      "Epoch 28/30\n",
      "110288/110288 [==============================] - 31s - loss: 0.0492 - acc: 0.9874 - val_loss: 0.0796 - val_acc: 0.9795\n",
      "Epoch 29/30\n",
      "110288/110288 [==============================] - 31s - loss: 0.0540 - acc: 0.9861 - val_loss: 0.0724 - val_acc: 0.9815\n",
      "Epoch 30/30\n",
      "110288/110288 [==============================] - 31s - loss: 0.0534 - acc: 0.9860 - val_loss: 0.1072 - val_acc: 0.9715\n",
      "Sample 1:\n",
      "il a vu un vieux camion jaune <PAD> <PAD> <PAD> <PAD> <PAD> <PAD> <PAD> <PAD> <PAD> <PAD> <PAD> <PAD> <PAD> <PAD>\n",
      "Il a vu un vieux camion jaune\n",
      "Sample 2:\n",
      "new jersey est parfois calme pendant l' automne et il est neigeux en avril <PAD> <PAD> <PAD> <PAD> <PAD> <PAD> <PAD>\n",
      "new jersey est parfois calme pendant l' automne et il est neigeux en avril <PAD> <PAD> <PAD> <PAD> <PAD> <PAD> <PAD>\n"
     ]
    }
   ],
   "source": [
    "def final_predictions(x, y, x_tk, y_tk):\n",
    "    \"\"\"\n",
    "    Gets predictions using the final model\n",
    "    :param x: Preprocessed English data\n",
    "    :param y: Preprocessed French data\n",
    "    :param x_tk: English tokenizer\n",
    "    :param y_tk: French tokenizer\n",
    "    \"\"\"\n",
    "    # TODO: Train neural network using model_final\n",
    "    max_x_sequence_length = x.shape[1]\n",
    "    max_y_sequence_length = y.shape[1]\n",
    "    x_vocab_size = len(x_tk.word_index)\n",
    "    y_vocab_size = len(y_tk.word_index)\n",
    "    \n",
    "    x = pad(x, max_y_sequence_length)\n",
    "    \n",
    "    model = model_final(tmp_x.shape, max_y_sequence_length, x_vocab_size+1, y_vocab_size+1)\n",
    "    model.fit(tmp_x, preproc_french_sentences, batch_size=1024, epochs=30, validation_split=0.2)\n",
    "    \n",
    "    ## DON'T EDIT ANYTHING BELOW THIS LINE\n",
    "    y_id_to_word = {value: key for key, value in y_tk.word_index.items()}\n",
    "    y_id_to_word[0] = '<PAD>'\n",
    "\n",
    "    sentence = 'he saw a old yellow truck'\n",
    "    sentence = [x_tk.word_index[word] for word in sentence.split()]\n",
    "    sentence = pad_sequences([sentence], maxlen=x.shape[-1], padding='post')\n",
    "    sentences = np.array([sentence[0], x[0]])\n",
    "    predictions = model.predict(sentences, len(sentences))\n",
    "\n",
    "    print('Sample 1:')\n",
    "    print(' '.join([y_id_to_word[np.argmax(x)] for x in predictions[0]]))\n",
    "    print('Il a vu un vieux camion jaune')\n",
    "    print('Sample 2:')\n",
    "    print(' '.join([y_id_to_word[np.argmax(x)] for x in predictions[1]]))\n",
    "    print(' '.join([y_id_to_word[np.max(x)] for x in y[0]]))\n",
    "\n",
    "\n",
    "final_predictions(preproc_english_sentences, preproc_french_sentences, english_tokenizer, french_tokenizer)"
   ]
  },
  {
   "cell_type": "markdown",
   "metadata": {},
   "source": [
    "## Submission\n",
    "When you're ready to submit, complete the following steps:\n",
    "1. Review the [rubric](https://review.udacity.com/#!/rubrics/1004/view) to ensure your submission meets all requirements to pass\n",
    "2. Generate an HTML version of this notebook\n",
    "\n",
    "  - Run the next cell to attempt automatic generation (this is the recommended method in Workspaces)\n",
    "  - Navigate to **FILE -> Download as -> HTML (.html)**\n",
    "  - Manually generate a copy using `nbconvert` from your shell terminal\n",
    "```\n",
    "$ pip install nbconvert\n",
    "$ python -m nbconvert machine_translation.ipynb\n",
    "```\n",
    "  \n",
    "3. Submit the project\n",
    "\n",
    "  - If you are in a Workspace, simply click the \"Submit Project\" button (bottom towards the right)\n",
    "  \n",
    "  - Otherwise, add the following files into a zip archive and submit them \n",
    "  - `helper.py`\n",
    "  - `machine_translation.ipynb`\n",
    "  - `machine_translation.html`\n",
    "    - You can export the notebook by navigating to **File -> Download as -> HTML (.html)**."
   ]
  },
  {
   "cell_type": "code",
   "execution_count": null,
   "metadata": {
    "collapsed": true
   },
   "outputs": [],
   "source": [
    "!!python -m nbconvert *.ipynb"
   ]
  },
  {
   "cell_type": "markdown",
   "metadata": {},
   "source": [
    "## Optional Enhancements\n",
    "\n",
    "This project focuses on learning various network architectures for machine translation, but we don't evaluate the models according to best practices by splitting the data into separate test & training sets -- so the model accuracy is overstated. Use the [`sklearn.model_selection.train_test_split()`](http://scikit-learn.org/stable/modules/generated/sklearn.model_selection.train_test_split.html) function to create separate training & test datasets, then retrain each of the models using only the training set and evaluate the prediction accuracy using the hold out test set. Does the \"best\" model change?"
   ]
  }
 ],
 "metadata": {
  "kernelspec": {
   "display_name": "Python 3",
   "language": "python",
   "name": "python3"
  },
  "language_info": {
   "codemirror_mode": {
    "name": "ipython",
    "version": 3
   },
   "file_extension": ".py",
   "mimetype": "text/x-python",
   "name": "python",
   "nbconvert_exporter": "python",
   "pygments_lexer": "ipython3",
   "version": "3.5.2"
  }
 },
 "nbformat": 4,
 "nbformat_minor": 1
}
