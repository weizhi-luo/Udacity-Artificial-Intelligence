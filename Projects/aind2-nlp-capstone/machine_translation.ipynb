{
 "cells": [
  {
   "cell_type": "markdown",
   "metadata": {
    "collapsed": true
   },
   "source": [
    "# Artificial Intelligence Nanodegree\n",
    "## Machine Translation Project\n",
    "In this notebook, sections that end with **'(IMPLEMENTATION)'** in the header indicate that the following blocks of code will require additional functionality which you must provide. Please be sure to read the instructions carefully!\n",
    "\n",
    "## Introduction\n",
    "In this notebook, you will build a deep neural network that functions as part of an end-to-end machine translation pipeline. Your completed pipeline will accept English text as input and return the French translation.\n",
    "\n",
    "- **Preprocess** - You'll convert text to sequence of integers.\n",
    "- **Models** Create models which accepts a sequence of integers as input and returns a probability distribution over possible translations. After learning about the basic types of neural networks that are often used for machine translation, you will engage in your own investigations, to design your own model!\n",
    "- **Prediction** Run the model on English text."
   ]
  },
  {
   "cell_type": "code",
   "execution_count": 1,
   "metadata": {},
   "outputs": [],
   "source": [
    "%load_ext autoreload\n",
    "%aimport helper, tests\n",
    "%autoreload 1"
   ]
  },
  {
   "cell_type": "code",
   "execution_count": 2,
   "metadata": {},
   "outputs": [
    {
     "name": "stderr",
     "output_type": "stream",
     "text": [
      "Using TensorFlow backend.\n"
     ]
    }
   ],
   "source": [
    "import collections\n",
    "\n",
    "import helper\n",
    "import numpy as np\n",
    "import project_tests as tests\n",
    "\n",
    "from keras.preprocessing.text import Tokenizer\n",
    "from keras.preprocessing.sequence import pad_sequences\n",
    "from keras.models import Model\n",
    "from keras.layers import GRU, Input, Dense, TimeDistributed, Activation, RepeatVector, Bidirectional\n",
    "from keras.layers.embeddings import Embedding\n",
    "from keras.optimizers import Adam\n",
    "from keras.losses import sparse_categorical_crossentropy"
   ]
  },
  {
   "cell_type": "markdown",
   "metadata": {},
   "source": [
    "### Verify access to the GPU\n",
    "The following test applies only if you expect to be using a GPU, e.g., while running in a Udacity Workspace or using an AWS instance with GPU support. Run the next cell, and verify that the device_type is \"GPU\".\n",
    "- If the device is not GPU & you are running from a Udacity Workspace, then save your workspace with the icon at the top, then click \"enable\" at the bottom of the workspace.\n",
    "- If the device is not GPU & you are running from an AWS instance, then refer to the cloud computing instructions in the classroom to verify your setup steps."
   ]
  },
  {
   "cell_type": "code",
   "execution_count": 3,
   "metadata": {},
   "outputs": [
    {
     "name": "stdout",
     "output_type": "stream",
     "text": [
      "[name: \"/cpu:0\"\n",
      "device_type: \"CPU\"\n",
      "memory_limit: 268435456\n",
      "locality {\n",
      "}\n",
      "incarnation: 2539959893130799813\n",
      ", name: \"/gpu:0\"\n",
      "device_type: \"GPU\"\n",
      "memory_limit: 11332668621\n",
      "locality {\n",
      "  bus_id: 1\n",
      "}\n",
      "incarnation: 15489959406060773841\n",
      "physical_device_desc: \"device: 0, name: Tesla K80, pci bus id: 0000:00:1e.0\"\n",
      "]\n"
     ]
    }
   ],
   "source": [
    "from tensorflow.python.client import device_lib\n",
    "print(device_lib.list_local_devices())"
   ]
  },
  {
   "cell_type": "markdown",
   "metadata": {},
   "source": [
    "## Dataset\n",
    "We begin by investigating the dataset that will be used to train and evaluate your pipeline.  The most common datasets used for machine translation are from [WMT](http://www.statmt.org/).  However, that will take a long time to train a neural network on.  We'll be using a dataset we created for this project that contains a small vocabulary.  You'll be able to train your model in a reasonable time with this dataset.\n",
    "### Load Data\n",
    "The data is located in `data/small_vocab_en` and `data/small_vocab_fr`. The `small_vocab_en` file contains English sentences with their French translations in the `small_vocab_fr` file. Load the English and French data from these files from running the cell below."
   ]
  },
  {
   "cell_type": "code",
   "execution_count": 4,
   "metadata": {},
   "outputs": [
    {
     "name": "stdout",
     "output_type": "stream",
     "text": [
      "Dataset Loaded\n"
     ]
    }
   ],
   "source": [
    "# Load English data\n",
    "english_sentences = helper.load_data('data/small_vocab_en')\n",
    "# Load French data\n",
    "french_sentences = helper.load_data('data/small_vocab_fr')\n",
    "\n",
    "print('Dataset Loaded')"
   ]
  },
  {
   "cell_type": "markdown",
   "metadata": {},
   "source": [
    "### Files\n",
    "Each line in `small_vocab_en` contains an English sentence with the respective translation in each line of `small_vocab_fr`.  View the first two lines from each file."
   ]
  },
  {
   "cell_type": "code",
   "execution_count": 5,
   "metadata": {},
   "outputs": [
    {
     "name": "stdout",
     "output_type": "stream",
     "text": [
      "small_vocab_en Line 1:  new jersey is sometimes quiet during autumn , and it is snowy in april .\n",
      "small_vocab_fr Line 1:  new jersey est parfois calme pendant l' automne , et il est neigeux en avril .\n",
      "small_vocab_en Line 2:  the united states is usually chilly during july , and it is usually freezing in november .\n",
      "small_vocab_fr Line 2:  les états-unis est généralement froid en juillet , et il gèle habituellement en novembre .\n"
     ]
    }
   ],
   "source": [
    "for sample_i in range(2):\n",
    "    print('small_vocab_en Line {}:  {}'.format(sample_i + 1, english_sentences[sample_i]))\n",
    "    print('small_vocab_fr Line {}:  {}'.format(sample_i + 1, french_sentences[sample_i]))"
   ]
  },
  {
   "cell_type": "markdown",
   "metadata": {},
   "source": [
    "From looking at the sentences, you can see they have been preprocessed already.  The puncuations have been delimited using spaces. All the text have been converted to lowercase.  This should save you some time, but the text requires more preprocessing.\n",
    "### Vocabulary\n",
    "The complexity of the problem is determined by the complexity of the vocabulary.  A more complex vocabulary is a more complex problem.  Let's look at the complexity of the dataset we'll be working with."
   ]
  },
  {
   "cell_type": "code",
   "execution_count": 6,
   "metadata": {},
   "outputs": [
    {
     "name": "stdout",
     "output_type": "stream",
     "text": [
      "1823250 English words.\n",
      "227 unique English words.\n",
      "10 Most common words in the English dataset:\n",
      "\"is\" \",\" \".\" \"in\" \"it\" \"during\" \"the\" \"but\" \"and\" \"sometimes\"\n",
      "\n",
      "1961295 French words.\n",
      "355 unique French words.\n",
      "10 Most common words in the French dataset:\n",
      "\"est\" \".\" \",\" \"en\" \"il\" \"les\" \"mais\" \"et\" \"la\" \"parfois\"\n"
     ]
    }
   ],
   "source": [
    "english_words_counter = collections.Counter([word for sentence in english_sentences for word in sentence.split()])\n",
    "french_words_counter = collections.Counter([word for sentence in french_sentences for word in sentence.split()])\n",
    "\n",
    "print('{} English words.'.format(len([word for sentence in english_sentences for word in sentence.split()])))\n",
    "print('{} unique English words.'.format(len(english_words_counter)))\n",
    "print('10 Most common words in the English dataset:')\n",
    "print('\"' + '\" \"'.join(list(zip(*english_words_counter.most_common(10)))[0]) + '\"')\n",
    "print()\n",
    "print('{} French words.'.format(len([word for sentence in french_sentences for word in sentence.split()])))\n",
    "print('{} unique French words.'.format(len(french_words_counter)))\n",
    "print('10 Most common words in the French dataset:')\n",
    "print('\"' + '\" \"'.join(list(zip(*french_words_counter.most_common(10)))[0]) + '\"')"
   ]
  },
  {
   "cell_type": "markdown",
   "metadata": {},
   "source": [
    "For comparison, _Alice's Adventures in Wonderland_ contains 2,766 unique words of a total of 15,500 words.\n",
    "## Preprocess\n",
    "For this project, you won't use text data as input to your model. Instead, you'll convert the text into sequences of integers using the following preprocess methods:\n",
    "1. Tokenize the words into ids\n",
    "2. Add padding to make all the sequences the same length.\n",
    "\n",
    "Time to start preprocessing the data...\n",
    "### Tokenize (IMPLEMENTATION)\n",
    "For a neural network to predict on text data, it first has to be turned into data it can understand. Text data like \"dog\" is a sequence of ASCII character encodings.  Since a neural network is a series of multiplication and addition operations, the input data needs to be number(s).\n",
    "\n",
    "We can turn each character into a number or each word into a number.  These are called character and word ids, respectively.  Character ids are used for character level models that generate text predictions for each character.  A word level model uses word ids that generate text predictions for each word.  Word level models tend to learn better, since they are lower in complexity, so we'll use those.\n",
    "\n",
    "Turn each sentence into a sequence of words ids using Keras's [`Tokenizer`](https://keras.io/preprocessing/text/#tokenizer) function. Use this function to tokenize `english_sentences` and `french_sentences` in the cell below.\n",
    "\n",
    "Running the cell will run `tokenize` on sample data and show output for debugging."
   ]
  },
  {
   "cell_type": "code",
   "execution_count": 7,
   "metadata": {},
   "outputs": [
    {
     "name": "stdout",
     "output_type": "stream",
     "text": [
      "{'this': 4, 'study': 5, 'dog': 6, 'the': 1, 'of': 13, 'won': 19, 'brown': 9, 'by': 10, 'short': 8, 'my': 20, 'jove': 12, 'quick': 3, 'lexicography': 11, 'is': 14, 'sentence': 7, 'over': 16, 'fox': 15, 'jumps': 18, 'prize': 17, 'a': 2, 'lazy': 21}\n",
      "\n",
      "Sequence 1 in x\n",
      "  Input:  The quick brown fox jumps over the lazy dog .\n",
      "  Output: [1, 3, 9, 15, 18, 16, 1, 21, 6]\n",
      "Sequence 2 in x\n",
      "  Input:  By Jove , my quick study of lexicography won a prize .\n",
      "  Output: [10, 12, 20, 3, 5, 13, 11, 19, 2, 17]\n",
      "Sequence 3 in x\n",
      "  Input:  This is a short sentence .\n",
      "  Output: [4, 14, 2, 8, 7]\n"
     ]
    }
   ],
   "source": [
    "def tokenize(x):\n",
    "    \"\"\"\n",
    "    Tokenize x\n",
    "    :param x: List of sentences/strings to be tokenized\n",
    "    :return: Tuple of (tokenized x data, tokenizer used to tokenize x)\n",
    "    \"\"\"\n",
    "    # TODO: Implement\n",
    "    tokenizer = Tokenizer()\n",
    "    tokenizer.fit_on_texts(x)\n",
    "    sequences = tokenizer.texts_to_sequences(x)\n",
    "    \n",
    "    return sequences, tokenizer\n",
    "tests.test_tokenize(tokenize)\n",
    "\n",
    "# Tokenize Example output\n",
    "text_sentences = [\n",
    "    'The quick brown fox jumps over the lazy dog .',\n",
    "    'By Jove , my quick study of lexicography won a prize .',\n",
    "    'This is a short sentence .']\n",
    "text_tokenized, text_tokenizer = tokenize(text_sentences)\n",
    "print(text_tokenizer.word_index)\n",
    "print()\n",
    "for sample_i, (sent, token_sent) in enumerate(zip(text_sentences, text_tokenized)):\n",
    "    print('Sequence {} in x'.format(sample_i + 1))\n",
    "    print('  Input:  {}'.format(sent))\n",
    "    print('  Output: {}'.format(token_sent))"
   ]
  },
  {
   "cell_type": "markdown",
   "metadata": {},
   "source": [
    "### Padding (IMPLEMENTATION)\n",
    "When batching the sequence of word ids together, each sequence needs to be the same length.  Since sentences are dynamic in length, we can add padding to the end of the sequences to make them the same length.\n",
    "\n",
    "Make sure all the English sequences have the same length and all the French sequences have the same length by adding padding to the **end** of each sequence using Keras's [`pad_sequences`](https://keras.io/preprocessing/sequence/#pad_sequences) function."
   ]
  },
  {
   "cell_type": "code",
   "execution_count": 8,
   "metadata": {},
   "outputs": [
    {
     "name": "stdout",
     "output_type": "stream",
     "text": [
      "Sequence 1 in x\n",
      "  Input:  [ 1  3  9 15 18 16  1 21  6]\n",
      "  Output: [ 1  3  9 15 18 16  1 21  6  0]\n",
      "Sequence 2 in x\n",
      "  Input:  [10 12 20  3  5 13 11 19  2 17]\n",
      "  Output: [10 12 20  3  5 13 11 19  2 17]\n",
      "Sequence 3 in x\n",
      "  Input:  [ 4 14  2  8  7]\n",
      "  Output: [ 4 14  2  8  7  0  0  0  0  0]\n"
     ]
    }
   ],
   "source": [
    "def pad(x, length=None):\n",
    "    \"\"\"\n",
    "    Pad x\n",
    "    :param x: List of sequences.\n",
    "    :param length: Length to pad the sequence to.  If None, use length of longest sequence in x.\n",
    "    :return: Padded numpy array of sequences\n",
    "    \"\"\"\n",
    "    # TODO: Implement\n",
    "    return pad_sequences(x, maxlen=length, padding='post')\n",
    "tests.test_pad(pad)\n",
    "\n",
    "# Pad Tokenized output\n",
    "test_pad = pad(text_tokenized)\n",
    "for sample_i, (token_sent, pad_sent) in enumerate(zip(text_tokenized, test_pad)):\n",
    "    print('Sequence {} in x'.format(sample_i + 1))\n",
    "    print('  Input:  {}'.format(np.array(token_sent)))\n",
    "    print('  Output: {}'.format(pad_sent))"
   ]
  },
  {
   "cell_type": "markdown",
   "metadata": {},
   "source": [
    "### Preprocess Pipeline\n",
    "Your focus for this project is to build neural network architecture, so we won't ask you to create a preprocess pipeline.  Instead, we've provided you with the implementation of the `preprocess` function."
   ]
  },
  {
   "cell_type": "code",
   "execution_count": 9,
   "metadata": {},
   "outputs": [
    {
     "name": "stdout",
     "output_type": "stream",
     "text": [
      "Data Preprocessed\n",
      "Max English sentence length: 15\n",
      "Max French sentence length: 21\n",
      "English vocabulary size: 199\n",
      "French vocabulary size: 344\n"
     ]
    }
   ],
   "source": [
    "def preprocess(x, y):\n",
    "    \"\"\"\n",
    "    Preprocess x and y\n",
    "    :param x: Feature List of sentences\n",
    "    :param y: Label List of sentences\n",
    "    :return: Tuple of (Preprocessed x, Preprocessed y, x tokenizer, y tokenizer)\n",
    "    \"\"\"\n",
    "    preprocess_x, x_tk = tokenize(x)\n",
    "    preprocess_y, y_tk = tokenize(y)\n",
    "\n",
    "    preprocess_x = pad(preprocess_x)\n",
    "    preprocess_y = pad(preprocess_y)\n",
    "\n",
    "    # Keras's sparse_categorical_crossentropy function requires the labels to be in 3 dimensions\n",
    "    preprocess_y = preprocess_y.reshape(*preprocess_y.shape, 1)\n",
    "\n",
    "    return preprocess_x, preprocess_y, x_tk, y_tk\n",
    "\n",
    "preproc_english_sentences, preproc_french_sentences, english_tokenizer, french_tokenizer =\\\n",
    "    preprocess(english_sentences, french_sentences)\n",
    "    \n",
    "max_english_sequence_length = preproc_english_sentences.shape[1]\n",
    "max_french_sequence_length = preproc_french_sentences.shape[1]\n",
    "english_vocab_size = len(english_tokenizer.word_index)\n",
    "french_vocab_size = len(french_tokenizer.word_index)\n",
    "\n",
    "print('Data Preprocessed')\n",
    "print(\"Max English sentence length:\", max_english_sequence_length)\n",
    "print(\"Max French sentence length:\", max_french_sequence_length)\n",
    "print(\"English vocabulary size:\", english_vocab_size)\n",
    "print(\"French vocabulary size:\", french_vocab_size)"
   ]
  },
  {
   "cell_type": "markdown",
   "metadata": {},
   "source": [
    "## Models\n",
    "In this section, you will experiment with various neural network architectures.\n",
    "You will begin by training four relatively simple architectures.\n",
    "- Model 1 is a simple RNN\n",
    "- Model 2 is a RNN with Embedding\n",
    "- Model 3 is a Bidirectional RNN\n",
    "- Model 4 is an optional Encoder-Decoder RNN\n",
    "\n",
    "After experimenting with the four simple architectures, you will construct a deeper architecture that is designed to outperform all four models.\n",
    "### Ids Back to Text\n",
    "The neural network will be translating the input to words ids, which isn't the final form we want.  We want the French translation.  The function `logits_to_text` will bridge the gab between the logits from the neural network to the French translation.  You'll be using this function to better understand the output of the neural network."
   ]
  },
  {
   "cell_type": "code",
   "execution_count": 10,
   "metadata": {},
   "outputs": [
    {
     "name": "stdout",
     "output_type": "stream",
     "text": [
      "`logits_to_text` function loaded.\n"
     ]
    }
   ],
   "source": [
    "def logits_to_text(logits, tokenizer):\n",
    "    \"\"\"\n",
    "    Turn logits from a neural network into text using the tokenizer\n",
    "    :param logits: Logits from a neural network\n",
    "    :param tokenizer: Keras Tokenizer fit on the labels\n",
    "    :return: String that represents the text of the logits\n",
    "    \"\"\"\n",
    "    index_to_words = {id: word for word, id in tokenizer.word_index.items()}\n",
    "    index_to_words[0] = '<PAD>'\n",
    "\n",
    "    return ' '.join([index_to_words[prediction] for prediction in np.argmax(logits, 1)])\n",
    "\n",
    "print('`logits_to_text` function loaded.')"
   ]
  },
  {
   "cell_type": "markdown",
   "metadata": {},
   "source": [
    "### Model 1: RNN (IMPLEMENTATION)\n",
    "![RNN](images/rnn.png)\n",
    "A basic RNN model is a good baseline for sequence data.  In this model, you'll build a RNN that translates English to French."
   ]
  },
  {
   "cell_type": "code",
   "execution_count": 13,
   "metadata": {
    "scrolled": true
   },
   "outputs": [
    {
     "name": "stdout",
     "output_type": "stream",
     "text": [
      "Train on 110288 samples, validate on 27573 samples\n",
      "Epoch 1/10\n",
      "110288/110288 [==============================] - 8s - loss: 2.0385 - acc: 0.5391 - val_loss: 1.4769 - val_acc: 0.6088\n",
      "Epoch 2/10\n",
      "110288/110288 [==============================] - 7s - loss: 1.3595 - acc: 0.6275 - val_loss: 1.2669 - val_acc: 0.63960. - ET - ETA:\n",
      "Epoch 3/10\n",
      "110288/110288 [==============================] - 7s - loss: 1.2082 - acc: 0.6494 - val_loss: 1.1584 - val_acc: 0.65410\n",
      "Epoch 4/10\n",
      "110288/110288 [==============================] - 7s - loss: 1.1261 - acc: 0.6603 - val_loss: 1.1008 - val_acc: 0.6661\n",
      "Epoch 5/10\n",
      "110288/110288 [==============================] - 7s - loss: 1.0730 - acc: 0.6696 - val_loss: 1.0511 - val_acc: 0.6755TA: 1s - loss: 1.07\n",
      "Epoch 6/10\n",
      "110288/110288 [==============================] - 7s - loss: 1.0312 - acc: 0.6786 - val_loss: 1.0144 - val_acc: 0.6817\n",
      "Epoch 7/10\n",
      "110288/110288 [==============================] - 7s - loss: 0.9995 - acc: 0.6862 - val_loss: 0.9818 - val_acc: 0.6909\n",
      "Epoch 8/10\n",
      "110288/110288 [==============================] - 7s - loss: 0.9735 - acc: 0.6928 - val_loss: 0.9570 - val_acc: 0.6921\n",
      "Epoch 9/10\n",
      "110288/110288 [==============================] - 7s - loss: 0.9512 - acc: 0.6979 - val_loss: 0.9486 - val_acc: 0.7027: 0.9530 - acc: 0.697 - ETA: 0s - loss: 0.9528 -\n",
      "Epoch 10/10\n",
      "110288/110288 [==============================] - 7s - loss: 0.9331 - acc: 0.7034 - val_loss: 0.9153 - val_acc: 0.7037\n",
      "new jersey est parfois calme en mois de mai il il est en en <PAD> <PAD> <PAD> <PAD> <PAD> <PAD> <PAD>\n"
     ]
    }
   ],
   "source": [
    "def simple_model(input_shape, output_sequence_length, english_vocab_size, french_vocab_size):\n",
    "    \"\"\"\n",
    "    Build and train a basic RNN on x and y\n",
    "    :param input_shape: Tuple of input shape\n",
    "    :param output_sequence_length: Length of output sequence\n",
    "    :param english_vocab_size: Number of unique English words in the dataset\n",
    "    :param french_vocab_size: Number of unique French words in the dataset\n",
    "    :return: Keras model built, but not trained\n",
    "    \"\"\"\n",
    "    # TODO: Build the layers\n",
    "    inputs = Input(shape=input_shape[1:])\n",
    "    rnn = GRU(100, return_sequences=True)(inputs)\n",
    "    predictions = Dense(french_vocab_size, activation='softmax')(rnn)\n",
    "    learning_rate = 0.01\n",
    "    \n",
    "    model = Model(inputs=inputs, outputs=predictions)\n",
    "    model.compile(loss=sparse_categorical_crossentropy,\n",
    "                  optimizer=Adam(learning_rate),\n",
    "                  metrics=['accuracy'])\n",
    "    return model\n",
    "tests.test_simple_model(simple_model)\n",
    "\n",
    "# Reshaping the input to work with a basic RNN\n",
    "tmp_x = pad(preproc_english_sentences, max_french_sequence_length)\n",
    "tmp_x = tmp_x.reshape((-1, preproc_french_sentences.shape[-2], 1))\n",
    "\n",
    "# Train the neural network\n",
    "simple_rnn_model = simple_model(\n",
    "    tmp_x.shape,\n",
    "    max_french_sequence_length,\n",
    "    english_vocab_size+1,\n",
    "    french_vocab_size+1)\n",
    "simple_rnn_model.fit(tmp_x, preproc_french_sentences, batch_size=1024, epochs=10, validation_split=0.2)\n",
    "\n",
    "# Print prediction(s)\n",
    "print(logits_to_text(simple_rnn_model.predict(tmp_x[:1])[0], french_tokenizer))"
   ]
  },
  {
   "cell_type": "markdown",
   "metadata": {},
   "source": [
    "### Model 2: Embedding (IMPLEMENTATION)\n",
    "![RNN](images/embedding.png)\n",
    "You've turned the words into ids, but there's a better representation of a word.  This is called word embeddings.  An embedding is a vector representation of the word that is close to similar words in n-dimensional space, where the n represents the size of the embedding vectors.\n",
    "\n",
    "In this model, you'll create a RNN model using embedding."
   ]
  },
  {
   "cell_type": "code",
   "execution_count": 14,
   "metadata": {},
   "outputs": [
    {
     "name": "stdout",
     "output_type": "stream",
     "text": [
      "Train on 110288 samples, validate on 27573 samples\n",
      "Epoch 1/15\n",
      "110288/110288 [==============================] - 9s - loss: 1.7568 - acc: 0.6236 - val_loss: 0.6388 - val_acc: 0.8123\n",
      "Epoch 2/15\n",
      "110288/110288 [==============================] - 8s - loss: 0.4848 - acc: 0.8526 - val_loss: 0.3792 - val_acc: 0.8817\n",
      "Epoch 3/15\n",
      "110288/110288 [==============================] - 8s - loss: 0.3338 - acc: 0.8958 - val_loss: 0.3083 - val_acc: 0.9026\n",
      "Epoch 4/15\n",
      "110288/110288 [==============================] - 8s - loss: 0.2810 - acc: 0.9108 - val_loss: 0.2683 - val_acc: 0.9146\n",
      "Epoch 5/15\n",
      "110288/110288 [==============================] - 8s - loss: 0.2547 - acc: 0.9175 - val_loss: 0.2533 - val_acc: 0.9185\n",
      "Epoch 6/15\n",
      "110288/110288 [==============================] - 8s - loss: 0.2382 - acc: 0.9218 - val_loss: 0.2398 - val_acc: 0.9216\n",
      "Epoch 7/15\n",
      "110288/110288 [==============================] - 8s - loss: 0.2240 - acc: 0.9255 - val_loss: 0.2287 - val_acc: 0.9254\n",
      "Epoch 8/15\n",
      "110288/110288 [==============================] - 8s - loss: 0.2207 - acc: 0.9263 - val_loss: 0.2261 - val_acc: 0.9259\n",
      "Epoch 9/15\n",
      "110288/110288 [==============================] - 8s - loss: 0.2131 - acc: 0.9283 - val_loss: 0.2167 - val_acc: 0.9281\n",
      "Epoch 10/15\n",
      "110288/110288 [==============================] - 8s - loss: 0.2146 - acc: 0.9279 - val_loss: 0.2255 - val_acc: 0.9242\n",
      "Epoch 11/15\n",
      "110288/110288 [==============================] - 8s - loss: 0.2108 - acc: 0.9288 - val_loss: 0.2212 - val_acc: 0.9258\n",
      "Epoch 12/15\n",
      "110288/110288 [==============================] - 8s - loss: 0.2082 - acc: 0.9293 - val_loss: 0.2167 - val_acc: 0.9275\n",
      "Epoch 13/15\n",
      "110288/110288 [==============================] - 8s - loss: 0.2070 - acc: 0.9296 - val_loss: 0.2213 - val_acc: 0.9262\n",
      "Epoch 14/15\n",
      "110288/110288 [==============================] - 8s - loss: 0.2018 - acc: 0.9310 - val_loss: 0.2085 - val_acc: 0.9303\n",
      "Epoch 15/15\n",
      "110288/110288 [==============================] - 8s - loss: 0.1981 - acc: 0.9318 - val_loss: 0.2155 - val_acc: 0.9280\n",
      "new jersey est parfois calme en l' automne et il est neigeux en avril <PAD> <PAD> <PAD> <PAD> <PAD> <PAD> <PAD>\n"
     ]
    }
   ],
   "source": [
    "def embed_model(input_shape, output_sequence_length, english_vocab_size, french_vocab_size):\n",
    "    \"\"\"\n",
    "    Build and train a RNN model using word embedding on x and y\n",
    "    :param input_shape: Tuple of input shape\n",
    "    :param output_sequence_length: Length of output sequence\n",
    "    :param english_vocab_size: Number of unique English words in the dataset\n",
    "    :param french_vocab_size: Number of unique French words in the dataset\n",
    "    :return: Keras model built, but not trained\n",
    "    \"\"\"\n",
    "    # TODO: Implement\n",
    "    inputs = Input(shape=input_shape[1:])\n",
    "    embeddings = Embedding(english_vocab_size, 100, input_length=input_shape[1])(inputs)\n",
    "    rnn = GRU(100, return_sequences=True)(embeddings)\n",
    "    predictions = Dense(french_vocab_size, activation='softmax')(rnn)\n",
    "    learning_rate = 0.01\n",
    "    \n",
    "    model = Model(inputs=inputs, outputs=predictions)\n",
    "    model.compile(loss=sparse_categorical_crossentropy, optimizer=Adam(learning_rate), metrics=['accuracy'])\n",
    "    \n",
    "    return model\n",
    "tests.test_embed_model(embed_model)\n",
    "\n",
    "\n",
    "# TODO: Reshape the input\n",
    "tmp_x = pad(preproc_english_sentences, max_french_sequence_length)\n",
    "\n",
    "# TODO: Train the neural network\n",
    "embed_rnn_model = embed_model(tmp_x.shape, max_french_sequence_length, english_vocab_size+1, french_vocab_size+1)\n",
    "embed_rnn_model.fit(tmp_x, preproc_french_sentences, batch_size=1024, epochs=15, validation_split=0.2)\n",
    "\n",
    "# TODO: Print prediction(s)\n",
    "print(logits_to_text(embed_rnn_model.predict(tmp_x[:1])[0], french_tokenizer))"
   ]
  },
  {
   "cell_type": "markdown",
   "metadata": {},
   "source": [
    "### Model 3: Bidirectional RNNs (IMPLEMENTATION)\n",
    "![RNN](images/bidirectional.png)\n",
    "One restriction of a RNN is that it can't see the future input, only the past.  This is where bidirectional recurrent neural networks come in.  They are able to see the future data."
   ]
  },
  {
   "cell_type": "code",
   "execution_count": 16,
   "metadata": {},
   "outputs": [
    {
     "name": "stdout",
     "output_type": "stream",
     "text": [
      "Train on 110288 samples, validate on 27573 samples\n",
      "Epoch 1/15\n",
      "110288/110288 [==============================] - 13s - loss: 1.6432 - acc: 0.5998 - val_loss: 1.1829 - val_acc: 0.6594\n",
      "Epoch 2/15\n",
      "110288/110288 [==============================] - 12s - loss: 1.1125 - acc: 0.6708 - val_loss: 1.0493 - val_acc: 0.6802\n",
      "Epoch 3/15\n",
      "110288/110288 [==============================] - 12s - loss: 1.0004 - acc: 0.6878 - val_loss: 0.9628 - val_acc: 0.6940\n",
      "Epoch 4/15\n",
      "110288/110288 [==============================] - 12s - loss: 0.9379 - acc: 0.6977 - val_loss: 0.9074 - val_acc: 0.7040\n",
      "Epoch 5/15\n",
      "110288/110288 [==============================] - 12s - loss: 0.8887 - acc: 0.7069 - val_loss: 0.8741 - val_acc: 0.7116\n",
      "Epoch 6/15\n",
      "110288/110288 [==============================] - 12s - loss: 0.8570 - acc: 0.7138 - val_loss: 0.8484 - val_acc: 0.7147\n",
      "Epoch 7/15\n",
      "110288/110288 [==============================] - 12s - loss: 0.8328 - acc: 0.7202 - val_loss: 0.8369 - val_acc: 0.7196\n",
      "Epoch 8/15\n",
      "110288/110288 [==============================] - 12s - loss: 0.8327 - acc: 0.7213 - val_loss: 0.8107 - val_acc: 0.7258\n",
      "Epoch 9/15\n",
      "110288/110288 [==============================] - 12s - loss: 0.7902 - acc: 0.7358 - val_loss: 0.7772 - val_acc: 0.7434\n",
      "Epoch 10/15\n",
      "110288/110288 [==============================] - 12s - loss: 0.7607 - acc: 0.7484 - val_loss: 0.7428 - val_acc: 0.7557\n",
      "Epoch 11/15\n",
      "110288/110288 [==============================] - 12s - loss: 0.7428 - acc: 0.7544 - val_loss: 0.7202 - val_acc: 0.7659\n",
      "Epoch 12/15\n",
      "110288/110288 [==============================] - 12s - loss: 0.7108 - acc: 0.7668 - val_loss: 0.7241 - val_acc: 0.7640\n",
      "Epoch 13/15\n",
      "110288/110288 [==============================] - 12s - loss: 0.7130 - acc: 0.7648 - val_loss: 0.6979 - val_acc: 0.7690\n",
      "Epoch 14/15\n",
      "110288/110288 [==============================] - 12s - loss: 0.6980 - acc: 0.7698 - val_loss: 0.6728 - val_acc: 0.7808\n",
      "Epoch 15/15\n",
      "110288/110288 [==============================] - 12s - loss: 0.6653 - acc: 0.7830 - val_loss: 0.6725 - val_acc: 0.7794\n",
      "new jersey est parfois chaud au cours de il est il en en <PAD> <PAD> <PAD> <PAD> <PAD> <PAD> <PAD> <PAD>\n"
     ]
    }
   ],
   "source": [
    "def bd_model(input_shape, output_sequence_length, english_vocab_size, french_vocab_size):\n",
    "    \"\"\"\n",
    "    Build and train a bidirectional RNN model on x and y\n",
    "    :param input_shape: Tuple of input shape\n",
    "    :param output_sequence_length: Length of output sequence\n",
    "    :param english_vocab_size: Number of unique English words in the dataset\n",
    "    :param french_vocab_size: Number of unique French words in the dataset\n",
    "    :return: Keras model built, but not trained\n",
    "    \"\"\"\n",
    "    # TODO: Implement\n",
    "    inputs = Input(shape=input_shape[1:])\n",
    "    bd_rnn = Bidirectional(GRU(100, return_sequences=True))(inputs)\n",
    "    predictions = Dense(french_vocab_size, activation='softmax')(bd_rnn)\n",
    "    learning_rate = 0.01\n",
    "    \n",
    "    model = Model(inputs=inputs, outputs=predictions)\n",
    "    model.compile(loss=sparse_categorical_crossentropy, optimizer=Adam(learning_rate), metrics=['accuracy'])\n",
    "    \n",
    "    return model\n",
    "tests.test_bd_model(bd_model)\n",
    "\n",
    "# TODO: Train and Print prediction(s)\n",
    "tmp_x = pad(preproc_english_sentences, max_french_sequence_length)\n",
    "tmp_x = tmp_x.reshape((-1, preproc_french_sentences.shape[-2], 1))\n",
    "\n",
    "bd_rnn_model = bd_model(tmp_x.shape, max_french_sequence_length, english_vocab_size+1, french_vocab_size+1)\n",
    "bd_rnn_model.fit(tmp_x, preproc_french_sentences, batch_size=1024, epochs=15, validation_split=0.2)\n",
    "\n",
    "print(logits_to_text(bd_rnn_model.predict(tmp_x[:1])[0], french_tokenizer))"
   ]
  },
  {
   "cell_type": "markdown",
   "metadata": {},
   "source": [
    "### Model 4: Encoder-Decoder (OPTIONAL)\n",
    "Time to look at encoder-decoder models.  This model is made up of an encoder and decoder. The encoder creates a matrix representation of the sentence.  The decoder takes this matrix as input and predicts the translation as output.\n",
    "\n",
    "Create an encoder-decoder model in the cell below."
   ]
  },
  {
   "cell_type": "code",
   "execution_count": 13,
   "metadata": {
    "scrolled": true
   },
   "outputs": [
    {
     "name": "stdout",
     "output_type": "stream",
     "text": [
      "Train on 110288 samples, validate on 27573 samples\n",
      "Epoch 1/15\n",
      "110288/110288 [==============================] - 12s - loss: 2.6878 - acc: 0.4504 - val_loss: 2.1118 - val_acc: 0.5115\n",
      "Epoch 2/15\n",
      "110288/110288 [==============================] - 12s - loss: 1.9213 - acc: 0.5288 - val_loss: 1.7779 - val_acc: 0.5561\n",
      "Epoch 3/15\n",
      "110288/110288 [==============================] - 12s - loss: 1.6825 - acc: 0.5629 - val_loss: 1.6332 - val_acc: 0.5617\n",
      "Epoch 4/15\n",
      "110288/110288 [==============================] - 12s - loss: 1.5790 - acc: 0.5767 - val_loss: 1.5106 - val_acc: 0.5877\n",
      "Epoch 5/15\n",
      "110288/110288 [==============================] - 12s - loss: 1.4776 - acc: 0.5940 - val_loss: 1.4577 - val_acc: 0.5986\n",
      "Epoch 6/15\n",
      "110288/110288 [==============================] - 12s - loss: 1.4132 - acc: 0.6060 - val_loss: 1.3985 - val_acc: 0.6089\n",
      "Epoch 7/15\n",
      "110288/110288 [==============================] - 12s - loss: 1.3636 - acc: 0.6188 - val_loss: 1.3399 - val_acc: 0.6228\n",
      "Epoch 8/15\n",
      "110288/110288 [==============================] - 12s - loss: 1.3263 - acc: 0.6268 - val_loss: 1.3050 - val_acc: 0.6315\n",
      "Epoch 9/15\n",
      "110288/110288 [==============================] - 12s - loss: 1.2988 - acc: 0.6320 - val_loss: 1.2787 - val_acc: 0.6355\n",
      "Epoch 10/15\n",
      "110288/110288 [==============================] - 12s - loss: 1.2783 - acc: 0.6356 - val_loss: 1.2689 - val_acc: 0.6359\n",
      "Epoch 11/15\n",
      "110288/110288 [==============================] - 12s - loss: 1.3250 - acc: 0.6254 - val_loss: 1.2890 - val_acc: 0.6365\n",
      "Epoch 12/15\n",
      "110288/110288 [==============================] - 12s - loss: 1.2647 - acc: 0.6372 - val_loss: 1.2497 - val_acc: 0.6382\n",
      "Epoch 13/15\n",
      "110288/110288 [==============================] - 12s - loss: 1.2445 - acc: 0.6413 - val_loss: 1.2404 - val_acc: 0.6392\n",
      "Epoch 14/15\n",
      "110288/110288 [==============================] - 12s - loss: 1.2347 - acc: 0.6424 - val_loss: 1.2617 - val_acc: 0.6333\n",
      "Epoch 15/15\n",
      "110288/110288 [==============================] - 12s - loss: 1.2520 - acc: 0.6376 - val_loss: 1.2158 - val_acc: 0.6468\n",
      "new jersey est parfois chaud en l' mais il est est en en <PAD> <PAD> <PAD> <PAD> <PAD> <PAD> <PAD> <PAD>\n"
     ]
    }
   ],
   "source": [
    "def encdec_model(input_shape, output_sequence_length, english_vocab_size, french_vocab_size):\n",
    "    \"\"\"\n",
    "    Build and train an encoder-decoder model on x and y\n",
    "    :param input_shape: Tuple of input shape\n",
    "    :param output_sequence_length: Length of output sequence\n",
    "    :param english_vocab_size: Number of unique English words in the dataset\n",
    "    :param french_vocab_size: Number of unique French words in the dataset\n",
    "    :return: Keras model built, but not trained\n",
    "    \"\"\"\n",
    "    # OPTIONAL: Implement\n",
    "    encoder_inputs = Input(shape=input_shape[1:])\n",
    "    encoder_rnn = GRU(100)\n",
    "    encoder_outputs = encoder_rnn(encoder_inputs)\n",
    "    \n",
    "    decoder_inputs = RepeatVector(output_sequence_length)(encoder_outputs)\n",
    "    decoder_rnn = GRU(100, return_sequences=True)\n",
    "    decoder_outputs = decoder_rnn(decoder_inputs)\n",
    "    decoder_dense = Dense(french_vocab_size, activation='softmax')\n",
    "    decoder_outputs = decoder_dense(decoder_outputs)\n",
    "    learning_rate = 0.01\n",
    "    \n",
    "    model = Model(encoder_inputs, decoder_outputs)\n",
    "    model.compile(loss=sparse_categorical_crossentropy, optimizer=Adam(learning_rate), metrics=['accuracy'])\n",
    "    return model\n",
    "tests.test_encdec_model(encdec_model)\n",
    "\n",
    "\n",
    "# OPTIONAL: Train and Print prediction(s)\n",
    "tmp_x = pad(preproc_english_sentences, max_french_sequence_length)\n",
    "tmp_x = tmp_x.reshape(-1, preproc_french_sentences.shape[-2], 1)\n",
    "\n",
    "encdec_rnn_model = encdec_model(tmp_x.shape, max_french_sequence_length, english_vocab_size+1, french_vocab_size+1)\n",
    "encdec_rnn_model.fit(tmp_x, preproc_french_sentences, batch_size=1024, epochs=15, validation_split=0.2)\n",
    "\n",
    "print(logits_to_text(encdec_rnn_model.predict(tmp_x[:1])[0], french_tokenizer))"
   ]
  },
  {
   "cell_type": "markdown",
   "metadata": {},
   "source": [
    "### Model 5: Custom (IMPLEMENTATION)\n",
    "Use everything you learned from the previous models to create a model that incorporates embedding and a bidirectional rnn into one model."
   ]
  },
  {
   "cell_type": "code",
   "execution_count": 15,
   "metadata": {},
   "outputs": [
    {
     "name": "stdout",
     "output_type": "stream",
     "text": [
      "Final Model Loaded\n",
      "Train on 110288 samples, validate on 27573 samples\n",
      "Epoch 1/20\n",
      "110288/110288 [==============================] - 18s - loss: 2.6817 - acc: 0.4474 - val_loss: 2.0859 - val_acc: 0.4878\n",
      "Epoch 2/20\n",
      "110288/110288 [==============================] - 18s - loss: 1.9132 - acc: 0.5170 - val_loss: 1.7495 - val_acc: 0.5671\n",
      "Epoch 3/20\n",
      "110288/110288 [==============================] - 18s - loss: 1.6331 - acc: 0.5823 - val_loss: 1.4750 - val_acc: 0.6237\n",
      "Epoch 4/20\n",
      "110288/110288 [==============================] - 18s - loss: 1.3820 - acc: 0.6351 - val_loss: 1.2615 - val_acc: 0.6582\n",
      "Epoch 5/20\n",
      "110288/110288 [==============================] - 18s - loss: 1.1929 - acc: 0.6744 - val_loss: 1.1009 - val_acc: 0.6960\n",
      "Epoch 6/20\n",
      "110288/110288 [==============================] - 18s - loss: 1.0503 - acc: 0.7097 - val_loss: 0.9711 - val_acc: 0.7309\n",
      "Epoch 7/20\n",
      "110288/110288 [==============================] - 18s - loss: 0.9197 - acc: 0.7464 - val_loss: 0.9490 - val_acc: 0.7311\n",
      "Epoch 8/20\n",
      "110288/110288 [==============================] - 18s - loss: 0.8057 - acc: 0.7786 - val_loss: 0.7392 - val_acc: 0.8021\n",
      "Epoch 9/20\n",
      "110288/110288 [==============================] - 18s - loss: 0.7597 - acc: 0.7915 - val_loss: 0.6711 - val_acc: 0.8196\n",
      "Epoch 10/20\n",
      "110288/110288 [==============================] - 18s - loss: 0.6646 - acc: 0.8183 - val_loss: 0.6595 - val_acc: 0.8221\n",
      "Epoch 11/20\n",
      "110288/110288 [==============================] - 18s - loss: 0.5984 - acc: 0.8373 - val_loss: 0.5688 - val_acc: 0.8458\n",
      "Epoch 12/20\n",
      "110288/110288 [==============================] - 18s - loss: 0.5589 - acc: 0.8470 - val_loss: 0.5131 - val_acc: 0.8645\n",
      "Epoch 13/20\n",
      "110288/110288 [==============================] - 18s - loss: 0.5328 - acc: 0.8529 - val_loss: 0.4856 - val_acc: 0.8706\n",
      "Epoch 14/20\n",
      "110288/110288 [==============================] - 18s - loss: 0.4501 - acc: 0.8802 - val_loss: 0.4357 - val_acc: 0.8848\n",
      "Epoch 15/20\n",
      "110288/110288 [==============================] - 18s - loss: 0.4530 - acc: 0.8774 - val_loss: 0.4162 - val_acc: 0.8916\n",
      "Epoch 16/20\n",
      "110288/110288 [==============================] - 18s - loss: 0.4287 - acc: 0.8855 - val_loss: 0.4013 - val_acc: 0.8973\n",
      "Epoch 17/20\n",
      "110288/110288 [==============================] - 18s - loss: 0.3698 - acc: 0.9062 - val_loss: 0.3667 - val_acc: 0.9091\n",
      "Epoch 18/20\n",
      "110288/110288 [==============================] - 18s - loss: 0.4624 - acc: 0.8777 - val_loss: 0.3853 - val_acc: 0.9001\n",
      "Epoch 19/20\n",
      "110288/110288 [==============================] - 18s - loss: 0.3286 - acc: 0.9202 - val_loss: 0.3241 - val_acc: 0.9228\n",
      "Epoch 20/20\n",
      "110288/110288 [==============================] - 18s - loss: 0.3019 - acc: 0.9286 - val_loss: 0.3138 - val_acc: 0.9279\n",
      "new jersey est parfois agréable pendant l' et et il neigeux en en avril <PAD> <PAD> <PAD> <PAD> <PAD> <PAD> <PAD>\n"
     ]
    }
   ],
   "source": [
    "def model_final(input_shape, output_sequence_length, english_vocab_size, french_vocab_size):\n",
    "    \"\"\"\n",
    "    Build and train a model that incorporates embedding, encoder-decoder, and bidirectional RNN on x and y\n",
    "    :param input_shape: Tuple of input shape\n",
    "    :param output_sequence_length: Length of output sequence\n",
    "    :param english_vocab_size: Number of unique English words in the dataset\n",
    "    :param french_vocab_size: Number of unique French words in the dataset\n",
    "    :return: Keras model built, but not trained\n",
    "    \"\"\"\n",
    "    # TODO: Implement\n",
    "    encoder_inputs = Input(shape=input_shape[1:])\n",
    "    embeddings = Embedding(english_vocab_size, 100, input_length=input_shape[1])(encoder_inputs)\n",
    "    encoder_rnn = GRU(100)\n",
    "    encoder_outputs = Bidirectional(encoder_rnn)(embeddings)\n",
    "    \n",
    "    decoder_inputs = RepeatVector(output_sequence_length)(encoder_outputs)\n",
    "    decoder_rnn = GRU(100, return_sequences=True)\n",
    "    decoder_outputs = decoder_rnn(decoder_inputs)\n",
    "    decoder_dense = Dense(french_vocab_size, activation='softmax')\n",
    "    decoder_outputs = decoder_dense(decoder_outputs)\n",
    "    learning_rate = 0.01\n",
    "    \n",
    "    model = Model(encoder_inputs, decoder_outputs)\n",
    "    model.compile(loss=sparse_categorical_crossentropy, optimizer=Adam(learning_rate), metrics=['accuracy'])\n",
    "    return model\n",
    "tests.test_model_final(model_final)\n",
    "\n",
    "\n",
    "print('Final Model Loaded')\n",
    "# TODO: Train the final model\n",
    "tmp_x = pad(preproc_english_sentences, max_french_sequence_length)\n",
    "\n",
    "rnn_model_final = model_final(tmp_x.shape, max_french_sequence_length, english_vocab_size+1, french_vocab_size+1)\n",
    "rnn_model_final.fit(tmp_x, preproc_french_sentences, batch_size=1024, epochs=20, validation_split=0.2)\n",
    "\n",
    "print(logits_to_text(rnn_model_final.predict(tmp_x[:1])[0], french_tokenizer))"
   ]
  },
  {
   "cell_type": "markdown",
   "metadata": {},
   "source": [
    "## Prediction (IMPLEMENTATION)"
   ]
  },
  {
   "cell_type": "code",
   "execution_count": 21,
   "metadata": {},
   "outputs": [
    {
     "name": "stdout",
     "output_type": "stream",
     "text": [
      "Train on 110288 samples, validate on 27573 samples\n",
      "Epoch 1/20\n",
      "110288/110288 [==============================] - 19s - loss: 2.8207 - acc: 0.4392 - val_loss: 2.2032 - val_acc: 0.4724\n",
      "Epoch 2/20\n",
      "110288/110288 [==============================] - 18s - loss: 2.0250 - acc: 0.4954 - val_loss: 1.8239 - val_acc: 0.5388\n",
      "Epoch 3/20\n",
      "110288/110288 [==============================] - 18s - loss: 1.7092 - acc: 0.5644 - val_loss: 1.5800 - val_acc: 0.6009\n",
      "Epoch 4/20\n",
      "110288/110288 [==============================] - 18s - loss: 1.4919 - acc: 0.6228 - val_loss: 1.3516 - val_acc: 0.6561\n",
      "Epoch 5/20\n",
      "110288/110288 [==============================] - 18s - loss: 1.2816 - acc: 0.6649 - val_loss: 1.1731 - val_acc: 0.6838\n",
      "Epoch 6/20\n",
      "110288/110288 [==============================] - 18s - loss: 1.1268 - acc: 0.6919 - val_loss: 1.0300 - val_acc: 0.7166\n",
      "Epoch 7/20\n",
      "110288/110288 [==============================] - 18s - loss: 1.0047 - acc: 0.7198 - val_loss: 0.9409 - val_acc: 0.7370\n",
      "Epoch 8/20\n",
      "110288/110288 [==============================] - 18s - loss: 0.8983 - acc: 0.7463 - val_loss: 0.8533 - val_acc: 0.7560\n",
      "Epoch 9/20\n",
      "110288/110288 [==============================] - 18s - loss: 0.8290 - acc: 0.7650 - val_loss: 0.7733 - val_acc: 0.7809\n",
      "Epoch 10/20\n",
      "110288/110288 [==============================] - 18s - loss: 0.7341 - acc: 0.7924 - val_loss: 0.6892 - val_acc: 0.8061\n",
      "Epoch 11/20\n",
      "110288/110288 [==============================] - 18s - loss: 0.7387 - acc: 0.7883 - val_loss: 0.6717 - val_acc: 0.8087\n",
      "Epoch 12/20\n",
      "110288/110288 [==============================] - 18s - loss: 0.6405 - acc: 0.8181 - val_loss: 0.6196 - val_acc: 0.8232\n",
      "Epoch 13/20\n",
      "110288/110288 [==============================] - 18s - loss: 0.5959 - acc: 0.8315 - val_loss: 0.5698 - val_acc: 0.8407\n",
      "Epoch 14/20\n",
      "110288/110288 [==============================] - 18s - loss: 0.5499 - acc: 0.8468 - val_loss: 0.5527 - val_acc: 0.8481\n",
      "Epoch 15/20\n",
      "110288/110288 [==============================] - 18s - loss: 0.5932 - acc: 0.8340 - val_loss: 0.5200 - val_acc: 0.8575\n",
      "Epoch 16/20\n",
      "110288/110288 [==============================] - 18s - loss: 0.5496 - acc: 0.8523 - val_loss: 1.5287 - val_acc: 0.6545\n",
      "Epoch 17/20\n",
      "110288/110288 [==============================] - 18s - loss: 0.5910 - acc: 0.8376 - val_loss: 0.4765 - val_acc: 0.8733\n",
      "Epoch 18/20\n",
      "110288/110288 [==============================] - 18s - loss: 0.4569 - acc: 0.8780 - val_loss: 0.4536 - val_acc: 0.8816\n",
      "Epoch 19/20\n",
      "110288/110288 [==============================] - 18s - loss: 0.4498 - acc: 0.8790 - val_loss: 0.4485 - val_acc: 0.8804\n",
      "Epoch 20/20\n",
      "110288/110288 [==============================] - 18s - loss: 0.4662 - acc: 0.8711 - val_loss: 0.4361 - val_acc: 0.8846\n"
     ]
    },
    {
     "ename": "ValueError",
     "evalue": "Error when checking : expected input_10 to have shape (None, 21) but got array with shape (2, 15)",
     "output_type": "error",
     "traceback": [
      "\u001b[0;31m---------------------------------------------------------------------------\u001b[0m",
      "\u001b[0;31mValueError\u001b[0m                                Traceback (most recent call last)",
      "\u001b[0;32m<ipython-input-21-e3b7bf1edff0>\u001b[0m in \u001b[0;36m<module>\u001b[0;34m()\u001b[0m\n\u001b[1;32m     36\u001b[0m \u001b[0;34m\u001b[0m\u001b[0m\n\u001b[1;32m     37\u001b[0m \u001b[0;34m\u001b[0m\u001b[0m\n\u001b[0;32m---> 38\u001b[0;31m \u001b[0mfinal_predictions\u001b[0m\u001b[0;34m(\u001b[0m\u001b[0mpreproc_english_sentences\u001b[0m\u001b[0;34m,\u001b[0m \u001b[0mpreproc_french_sentences\u001b[0m\u001b[0;34m,\u001b[0m \u001b[0menglish_tokenizer\u001b[0m\u001b[0;34m,\u001b[0m \u001b[0mfrench_tokenizer\u001b[0m\u001b[0;34m)\u001b[0m\u001b[0;34m\u001b[0m\u001b[0m\n\u001b[0m",
      "\u001b[0;32m<ipython-input-21-e3b7bf1edff0>\u001b[0m in \u001b[0;36mfinal_predictions\u001b[0;34m(x, y, x_tk, y_tk)\u001b[0m\n\u001b[1;32m     26\u001b[0m     \u001b[0msentence\u001b[0m \u001b[0;34m=\u001b[0m \u001b[0mpad_sequences\u001b[0m\u001b[0;34m(\u001b[0m\u001b[0;34m[\u001b[0m\u001b[0msentence\u001b[0m\u001b[0;34m]\u001b[0m\u001b[0;34m,\u001b[0m \u001b[0mmaxlen\u001b[0m\u001b[0;34m=\u001b[0m\u001b[0mx\u001b[0m\u001b[0;34m.\u001b[0m\u001b[0mshape\u001b[0m\u001b[0;34m[\u001b[0m\u001b[0;34m-\u001b[0m\u001b[0;36m1\u001b[0m\u001b[0;34m]\u001b[0m\u001b[0;34m,\u001b[0m \u001b[0mpadding\u001b[0m\u001b[0;34m=\u001b[0m\u001b[0;34m'post'\u001b[0m\u001b[0;34m)\u001b[0m\u001b[0;34m\u001b[0m\u001b[0m\n\u001b[1;32m     27\u001b[0m     \u001b[0msentences\u001b[0m \u001b[0;34m=\u001b[0m \u001b[0mnp\u001b[0m\u001b[0;34m.\u001b[0m\u001b[0marray\u001b[0m\u001b[0;34m(\u001b[0m\u001b[0;34m[\u001b[0m\u001b[0msentence\u001b[0m\u001b[0;34m[\u001b[0m\u001b[0;36m0\u001b[0m\u001b[0;34m]\u001b[0m\u001b[0;34m,\u001b[0m \u001b[0mx\u001b[0m\u001b[0;34m[\u001b[0m\u001b[0;36m0\u001b[0m\u001b[0;34m]\u001b[0m\u001b[0;34m]\u001b[0m\u001b[0;34m)\u001b[0m\u001b[0;34m\u001b[0m\u001b[0m\n\u001b[0;32m---> 28\u001b[0;31m     \u001b[0mpredictions\u001b[0m \u001b[0;34m=\u001b[0m \u001b[0mmodel\u001b[0m\u001b[0;34m.\u001b[0m\u001b[0mpredict\u001b[0m\u001b[0;34m(\u001b[0m\u001b[0msentences\u001b[0m\u001b[0;34m,\u001b[0m \u001b[0mlen\u001b[0m\u001b[0;34m(\u001b[0m\u001b[0msentences\u001b[0m\u001b[0;34m)\u001b[0m\u001b[0;34m)\u001b[0m\u001b[0;34m\u001b[0m\u001b[0m\n\u001b[0m\u001b[1;32m     29\u001b[0m \u001b[0;34m\u001b[0m\u001b[0m\n\u001b[1;32m     30\u001b[0m     \u001b[0mprint\u001b[0m\u001b[0;34m(\u001b[0m\u001b[0;34m'Sample 1:'\u001b[0m\u001b[0;34m)\u001b[0m\u001b[0;34m\u001b[0m\u001b[0m\n",
      "\u001b[0;32m/usr/local/lib/python3.5/dist-packages/keras/engine/training.py\u001b[0m in \u001b[0;36mpredict\u001b[0;34m(self, x, batch_size, verbose)\u001b[0m\n\u001b[1;32m   1552\u001b[0m         x = _standardize_input_data(x, self._feed_input_names,\n\u001b[1;32m   1553\u001b[0m                                     \u001b[0mself\u001b[0m\u001b[0;34m.\u001b[0m\u001b[0m_feed_input_shapes\u001b[0m\u001b[0;34m,\u001b[0m\u001b[0;34m\u001b[0m\u001b[0m\n\u001b[0;32m-> 1554\u001b[0;31m                                     check_batch_axis=False)\n\u001b[0m\u001b[1;32m   1555\u001b[0m         \u001b[0;32mif\u001b[0m \u001b[0mself\u001b[0m\u001b[0;34m.\u001b[0m\u001b[0mstateful\u001b[0m\u001b[0;34m:\u001b[0m\u001b[0;34m\u001b[0m\u001b[0m\n\u001b[1;32m   1556\u001b[0m             \u001b[0;32mif\u001b[0m \u001b[0mx\u001b[0m\u001b[0;34m[\u001b[0m\u001b[0;36m0\u001b[0m\u001b[0;34m]\u001b[0m\u001b[0;34m.\u001b[0m\u001b[0mshape\u001b[0m\u001b[0;34m[\u001b[0m\u001b[0;36m0\u001b[0m\u001b[0;34m]\u001b[0m \u001b[0;34m>\u001b[0m \u001b[0mbatch_size\u001b[0m \u001b[0;32mand\u001b[0m \u001b[0mx\u001b[0m\u001b[0;34m[\u001b[0m\u001b[0;36m0\u001b[0m\u001b[0;34m]\u001b[0m\u001b[0;34m.\u001b[0m\u001b[0mshape\u001b[0m\u001b[0;34m[\u001b[0m\u001b[0;36m0\u001b[0m\u001b[0;34m]\u001b[0m \u001b[0;34m%\u001b[0m \u001b[0mbatch_size\u001b[0m \u001b[0;34m!=\u001b[0m \u001b[0;36m0\u001b[0m\u001b[0;34m:\u001b[0m\u001b[0;34m\u001b[0m\u001b[0m\n",
      "\u001b[0;32m/usr/local/lib/python3.5/dist-packages/keras/engine/training.py\u001b[0m in \u001b[0;36m_standardize_input_data\u001b[0;34m(data, names, shapes, check_batch_axis, exception_prefix)\u001b[0m\n\u001b[1;32m    131\u001b[0m                             \u001b[0;34m' to have shape '\u001b[0m \u001b[0;34m+\u001b[0m \u001b[0mstr\u001b[0m\u001b[0;34m(\u001b[0m\u001b[0mshapes\u001b[0m\u001b[0;34m[\u001b[0m\u001b[0mi\u001b[0m\u001b[0;34m]\u001b[0m\u001b[0;34m)\u001b[0m \u001b[0;34m+\u001b[0m\u001b[0;34m\u001b[0m\u001b[0m\n\u001b[1;32m    132\u001b[0m                             \u001b[0;34m' but got array with shape '\u001b[0m \u001b[0;34m+\u001b[0m\u001b[0;34m\u001b[0m\u001b[0m\n\u001b[0;32m--> 133\u001b[0;31m                             str(array.shape))\n\u001b[0m\u001b[1;32m    134\u001b[0m     \u001b[0;32mreturn\u001b[0m \u001b[0marrays\u001b[0m\u001b[0;34m\u001b[0m\u001b[0m\n\u001b[1;32m    135\u001b[0m \u001b[0;34m\u001b[0m\u001b[0m\n",
      "\u001b[0;31mValueError\u001b[0m: Error when checking : expected input_10 to have shape (None, 21) but got array with shape (2, 15)"
     ]
    }
   ],
   "source": [
    "def final_predictions(x, y, x_tk, y_tk):\n",
    "    \"\"\"\n",
    "    Gets predictions using the final model\n",
    "    :param x: Preprocessed English data\n",
    "    :param y: Preprocessed French data\n",
    "    :param x_tk: English tokenizer\n",
    "    :param y_tk: French tokenizer\n",
    "    \"\"\"\n",
    "    # TODO: Train neural network using model_final\n",
    "    max_x_sequence_length = x.shape[1]\n",
    "    max_y_sequence_length = y.shape[1]\n",
    "    x_vocab_size = len(x_tk.word_index)\n",
    "    y_vocab_size = len(y_tk.word_index)\n",
    "    \n",
    "    tmp_x = pad(x, max_y_sequence_length)\n",
    "    \n",
    "    model = model_final(tmp_x.shape, max_y_sequence_length, x_vocab_size+1, y_vocab_size+1)\n",
    "    model.fit(tmp_x, preproc_french_sentences, batch_size=1024, epochs=20, validation_split=0.2)\n",
    "    \n",
    "    ## DON'T EDIT ANYTHING BELOW THIS LINE\n",
    "    y_id_to_word = {value: key for key, value in y_tk.word_index.items()}\n",
    "    y_id_to_word[0] = '<PAD>'\n",
    "\n",
    "    sentence = 'he saw a old yellow truck'\n",
    "    sentence = [x_tk.word_index[word] for word in sentence.split()]\n",
    "    sentence = pad_sequences([sentence], maxlen=x.shape[-1], padding='post')\n",
    "    sentences = np.array([sentence[0], x[0]])\n",
    "    predictions = model.predict(sentences, len(sentences))\n",
    "\n",
    "    print('Sample 1:')\n",
    "    print(' '.join([y_id_to_word[np.argmax(x)] for x in predictions[0]]))\n",
    "    print('Il a vu un vieux camion jaune')\n",
    "    print('Sample 2:')\n",
    "    print(' '.join([y_id_to_word[np.argmax(x)] for x in predictions[1]]))\n",
    "    print(' '.join([y_id_to_word[np.max(x)] for x in y[0]]))\n",
    "\n",
    "\n",
    "final_predictions(preproc_english_sentences, preproc_french_sentences, english_tokenizer, french_tokenizer)"
   ]
  },
  {
   "cell_type": "markdown",
   "metadata": {},
   "source": [
    "## Submission\n",
    "When you're ready to submit, complete the following steps:\n",
    "1. Review the [rubric](https://review.udacity.com/#!/rubrics/1004/view) to ensure your submission meets all requirements to pass\n",
    "2. Generate an HTML version of this notebook\n",
    "\n",
    "  - Run the next cell to attempt automatic generation (this is the recommended method in Workspaces)\n",
    "  - Navigate to **FILE -> Download as -> HTML (.html)**\n",
    "  - Manually generate a copy using `nbconvert` from your shell terminal\n",
    "```\n",
    "$ pip install nbconvert\n",
    "$ python -m nbconvert machine_translation.ipynb\n",
    "```\n",
    "  \n",
    "3. Submit the project\n",
    "\n",
    "  - If you are in a Workspace, simply click the \"Submit Project\" button (bottom towards the right)\n",
    "  \n",
    "  - Otherwise, add the following files into a zip archive and submit them \n",
    "  - `helper.py`\n",
    "  - `machine_translation.ipynb`\n",
    "  - `machine_translation.html`\n",
    "    - You can export the notebook by navigating to **File -> Download as -> HTML (.html)**."
   ]
  },
  {
   "cell_type": "code",
   "execution_count": null,
   "metadata": {
    "collapsed": true
   },
   "outputs": [],
   "source": [
    "!!python -m nbconvert *.ipynb"
   ]
  },
  {
   "cell_type": "markdown",
   "metadata": {},
   "source": [
    "## Optional Enhancements\n",
    "\n",
    "This project focuses on learning various network architectures for machine translation, but we don't evaluate the models according to best practices by splitting the data into separate test & training sets -- so the model accuracy is overstated. Use the [`sklearn.model_selection.train_test_split()`](http://scikit-learn.org/stable/modules/generated/sklearn.model_selection.train_test_split.html) function to create separate training & test datasets, then retrain each of the models using only the training set and evaluate the prediction accuracy using the hold out test set. Does the \"best\" model change?"
   ]
  }
 ],
 "metadata": {
  "kernelspec": {
   "display_name": "Python 3",
   "language": "python",
   "name": "python3"
  },
  "language_info": {
   "codemirror_mode": {
    "name": "ipython",
    "version": 3
   },
   "file_extension": ".py",
   "mimetype": "text/x-python",
   "name": "python",
   "nbconvert_exporter": "python",
   "pygments_lexer": "ipython3",
   "version": "3.5.2"
  }
 },
 "nbformat": 4,
 "nbformat_minor": 1
}
